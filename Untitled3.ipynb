{
 "cells": [
  {
   "cell_type": "code",
   "execution_count": 2,
   "id": "754ea86c",
   "metadata": {},
   "outputs": [
    {
     "ename": "IndentationError",
     "evalue": "unexpected indent (578909286.py, line 45)",
     "output_type": "error",
     "traceback": [
      "\u001b[1;36m  Cell \u001b[1;32mIn[2], line 45\u001b[1;36m\u001b[0m\n\u001b[1;33m    plt.plot(df[\"Date_Time\"][:len(m)],m, color=colors[i], label=f'File {i+1}', linewidth=1, linestyle='-')\u001b[0m\n\u001b[1;37m    ^\u001b[0m\n\u001b[1;31mIndentationError\u001b[0m\u001b[1;31m:\u001b[0m unexpected indent\n"
     ]
    }
   ],
   "source": [
    "import pandas as pd\n",
    "import numpy as np\n",
    "import matplotlib.pyplot as plt\n",
    "import matplotlib.dates as mdates\n",
    "\n",
    "\n",
    "file_paths = [\n",
    "    r\"C:\\Users\\Alina\\Desktop\\3388\\33880380.dat\",\n",
    "    r\"C:\\Users\\Alina\\Desktop\\3389\\33890382.dat\",\n",
    "    r\"C:\\Users\\Alina\\Desktop\\3390\\33900381.dat\",\n",
    "    r\"C:\\Users\\Alina\\Desktop\\3392\\33920382.dat\"\n",
    "]\n",
    "\n",
    "dfs = [pd.read_csv(file, sep=\"\\t\", encoding='cp1251', skiprows=29, parse_dates=[['Date', 'Time']]) for file in file_paths]\n",
    "\n",
    "\n",
    "names = [\"1\"]  \n",
    "colors = ['b', 'k', 'r', 'g']  \n",
    "\n",
    "\n",
    "for i, df in enumerate(dfs):\n",
    "    plt.figure(figsize=(20, 3))  \n",
    "    buff = df[names[0]]  \n",
    "    \n",
    "    N = 351\n",
    "    m = np.convolve(buff, np.ones(N)/N, mode='valid')\n",
    "    m = buff[:len(m)] - m\n",
    "    \n",
    "    \n",
    "    \n",
    "\n",
    "\n",
    "\n",
    "start_time = \"2024-02-05 09:55:00\"\n",
    "end_time = \"2024-02-05 10:10:00\"\n",
    "\n",
    "\n",
    "plt.gca().xaxis.set_major_formatter(mdates.DateFormatter('%Y-%m-%d %H:%M:%S'))\n",
    "plt.gca().xaxis.set_major_locator(mdates.DayLocator())\n",
    "plt.xlim(pd.Timestamp(start_time), pd.Timestamp(end_time))\n",
    "\n",
    "    \n",
    "    \n",
    "    \n",
    "    plt.plot(df[\"Date_Time\"][:len(m)],m, color=colors[i], label=f'File {i+1}', linewidth=1, linestyle='-')\n",
    "    plt.grid()\n",
    "    plt.xlabel(\"Sample\")\n",
    "    plt.ylabel(names[0]+\" компонента, у.е. АЦП\")\n",
    "    plt.title(f\"{file_paths[i]}\")\n",
    "    plt.autoscale(enable=True, axis='y', tight=True)\n",
    "    plt.autoscale(enable=True, axis='x', tight=True)\n",
    "   #plt.xlim(1000, 400000)\n",
    "    #plt.xlim(9:55, 10:10)\n",
    "\n",
    "\n",
    "plt.show()\n"
   ]
  },
  {
   "cell_type": "code",
   "execution_count": null,
   "id": "40741599",
   "metadata": {},
   "outputs": [],
   "source": []
  }
 ],
 "metadata": {
  "kernelspec": {
   "display_name": "Python 3 (ipykernel)",
   "language": "python",
   "name": "python3"
  },
  "language_info": {
   "codemirror_mode": {
    "name": "ipython",
    "version": 3
   },
   "file_extension": ".py",
   "mimetype": "text/x-python",
   "name": "python",
   "nbconvert_exporter": "python",
   "pygments_lexer": "ipython3",
   "version": "3.11.5"
  }
 },
 "nbformat": 4,
 "nbformat_minor": 5
}

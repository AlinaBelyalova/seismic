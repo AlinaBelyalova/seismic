{
 "cells": [
  {
   "cell_type": "code",
   "execution_count": 12,
   "id": "3fa9f95c-1a75-4905-8ac3-a61634ca9765",
   "metadata": {},
   "outputs": [
    {
     "name": "stdout",
     "output_type": "stream",
     "text": [
      "               X             Y           Z\n",
      "0  540179.945358  7.676659e+06 -321.910004\n",
      "1  540392.825057  7.678980e+06 -348.700012\n",
      "2  541025.664991  7.679233e+06 -354.879993\n",
      "3  541944.111586  7.679128e+06 -379.599998\n",
      "4  542410.605136  7.678372e+06 -399.605000\n"
     ]
    }
   ],
   "source": [
    "import pandas as pd\n",
    "import ezdxf\n",
    "\n",
    "\n",
    "file_path_xyz = r\"C:\\Users\\Alina\\Desktop\\Полигоны\\3D_grids.xyz\"\n",
    "\n",
    "file_path_dxf = r\"C:\\Users\\Alina\\Desktop\\Полигоны\\3D_grids.dxf\"\n",
    "\n",
    "\n",
    "df = pd.read_csv(file_path_xyz, sep=\" \", names=[\"X\", \"Y\", \"Z\"], skiprows=3)\n",
    "\n",
    "\n",
    "print(df.head())\n",
    "\n",
    "\n",
    "doc = ezdxf.new('R2010')  \n",
    "msp = doc.modelspace()  \n",
    "\n",
    "\n",
    "for index, row in df.iterrows():\n",
    "    msp.add_point((row['X'], row['Y'], row['Z']))\n",
    "\n",
    "\n",
    "doc.saveas(file_path_dxf)\n",
    "\n",
    "\n"
   ]
  },
  {
   "cell_type": "code",
   "execution_count": null,
   "id": "07da5261-dc3e-4231-b513-ad36e9b31109",
   "metadata": {},
   "outputs": [],
   "source": []
  }
 ],
 "metadata": {
  "kernelspec": {
   "display_name": "Python 3 (ipykernel)",
   "language": "python",
   "name": "python3"
  },
  "language_info": {
   "codemirror_mode": {
    "name": "ipython",
    "version": 3
   },
   "file_extension": ".py",
   "mimetype": "text/x-python",
   "name": "python",
   "nbconvert_exporter": "python",
   "pygments_lexer": "ipython3",
   "version": "3.11.5"
  }
 },
 "nbformat": 4,
 "nbformat_minor": 5
}

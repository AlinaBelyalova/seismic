{
 "cells": [
  {
   "cell_type": "code",
   "execution_count": 8,
   "id": "3c90cf2e-e93c-4d4a-8570-045e5b2b9d65",
   "metadata": {},
   "outputs": [],
   "source": [
    "from os import path\n",
    "import numpy as np\n",
    "import pandas as pd\n",
    "import matplotlib.pyplot as plt\n",
    "import wellpathpy as wpp\n",
    "import xarray as xr\n",
    "from segysak import __version__\n",
    "import glob\n",
    "from segysak.segy import (\n",
    "    segy_loader,\n",
    "    get_segy_texthead,\n",
    "    segy_header_scan,\n",
    "    segy_header_scrape,\n",
    "    well_known_byte_locs,\n",
    ")"
   ]
  },
  {
   "cell_type": "code",
   "execution_count": 2,
   "id": "73657e7c-0c35-4443-8c4a-8b9876282d04",
   "metadata": {},
   "outputs": [],
   "source": [
    "path = r\"C:\\Users\\Alina\\Desktop\\linesutm.txt\""
   ]
  },
  {
   "cell_type": "code",
   "execution_count": 3,
   "id": "74f4b9c8-c517-4e67-99f4-41853010618b",
   "metadata": {},
   "outputs": [
    {
     "data": {
      "text/html": [
       "<div>\n",
       "<style scoped>\n",
       "    .dataframe tbody tr th:only-of-type {\n",
       "        vertical-align: middle;\n",
       "    }\n",
       "\n",
       "    .dataframe tbody tr th {\n",
       "        vertical-align: top;\n",
       "    }\n",
       "\n",
       "    .dataframe thead th {\n",
       "        text-align: right;\n",
       "    }\n",
       "</style>\n",
       "<table border=\"1\" class=\"dataframe\">\n",
       "  <thead>\n",
       "    <tr style=\"text-align: right;\">\n",
       "      <th></th>\n",
       "      <th>LineNo</th>\n",
       "      <th>E</th>\n",
       "      <th>N</th>\n",
       "      <th>Z</th>\n",
       "    </tr>\n",
       "  </thead>\n",
       "  <tbody>\n",
       "    <tr>\n",
       "      <th>0</th>\n",
       "      <td>1</td>\n",
       "      <td>540352.627</td>\n",
       "      <td>7677057.886</td>\n",
       "      <td>-0.563</td>\n",
       "    </tr>\n",
       "    <tr>\n",
       "      <th>1</th>\n",
       "      <td>1</td>\n",
       "      <td>540353.648</td>\n",
       "      <td>7678924.260</td>\n",
       "      <td>-0.563</td>\n",
       "    </tr>\n",
       "    <tr>\n",
       "      <th>2</th>\n",
       "      <td>2</td>\n",
       "      <td>540552.994</td>\n",
       "      <td>7676665.760</td>\n",
       "      <td>-0.563</td>\n",
       "    </tr>\n",
       "    <tr>\n",
       "      <th>3</th>\n",
       "      <td>2</td>\n",
       "      <td>540553.833</td>\n",
       "      <td>7678924.988</td>\n",
       "      <td>-0.563</td>\n",
       "    </tr>\n",
       "    <tr>\n",
       "      <th>4</th>\n",
       "      <td>3</td>\n",
       "      <td>540752.810</td>\n",
       "      <td>7676664.106</td>\n",
       "      <td>-0.563</td>\n",
       "    </tr>\n",
       "    <tr>\n",
       "      <th>5</th>\n",
       "      <td>3</td>\n",
       "      <td>540753.581</td>\n",
       "      <td>7678654.954</td>\n",
       "      <td>-0.563</td>\n",
       "    </tr>\n",
       "    <tr>\n",
       "      <th>6</th>\n",
       "      <td>4</td>\n",
       "      <td>540954.272</td>\n",
       "      <td>7676657.317</td>\n",
       "      <td>-0.563</td>\n",
       "    </tr>\n",
       "    <tr>\n",
       "      <th>7</th>\n",
       "      <td>4</td>\n",
       "      <td>540954.504</td>\n",
       "      <td>7678660.449</td>\n",
       "      <td>-0.563</td>\n",
       "    </tr>\n",
       "    <tr>\n",
       "      <th>8</th>\n",
       "      <td>5</td>\n",
       "      <td>541150.061</td>\n",
       "      <td>7676661.167</td>\n",
       "      <td>-0.563</td>\n",
       "    </tr>\n",
       "    <tr>\n",
       "      <th>9</th>\n",
       "      <td>5</td>\n",
       "      <td>541149.555</td>\n",
       "      <td>7678659.532</td>\n",
       "      <td>-0.563</td>\n",
       "    </tr>\n",
       "    <tr>\n",
       "      <th>10</th>\n",
       "      <td>6</td>\n",
       "      <td>541352.260</td>\n",
       "      <td>7676659.142</td>\n",
       "      <td>-0.563</td>\n",
       "    </tr>\n",
       "    <tr>\n",
       "      <th>11</th>\n",
       "      <td>6</td>\n",
       "      <td>541352.843</td>\n",
       "      <td>7678254.755</td>\n",
       "      <td>-0.563</td>\n",
       "    </tr>\n",
       "    <tr>\n",
       "      <th>12</th>\n",
       "      <td>7</td>\n",
       "      <td>541551.538</td>\n",
       "      <td>7676669.771</td>\n",
       "      <td>-0.563</td>\n",
       "    </tr>\n",
       "    <tr>\n",
       "      <th>13</th>\n",
       "      <td>7</td>\n",
       "      <td>541553.028</td>\n",
       "      <td>7678255.484</td>\n",
       "      <td>-0.563</td>\n",
       "    </tr>\n",
       "    <tr>\n",
       "      <th>14</th>\n",
       "      <td>8</td>\n",
       "      <td>541753.000</td>\n",
       "      <td>7676662.983</td>\n",
       "      <td>-0.563</td>\n",
       "    </tr>\n",
       "    <tr>\n",
       "      <th>15</th>\n",
       "      <td>8</td>\n",
       "      <td>541754.859</td>\n",
       "      <td>7678251.077</td>\n",
       "      <td>-0.563</td>\n",
       "    </tr>\n",
       "    <tr>\n",
       "      <th>16</th>\n",
       "      <td>9</td>\n",
       "      <td>541951.540</td>\n",
       "      <td>7676668.845</td>\n",
       "      <td>-0.563</td>\n",
       "    </tr>\n",
       "    <tr>\n",
       "      <th>17</th>\n",
       "      <td>9</td>\n",
       "      <td>541953.768</td>\n",
       "      <td>7678259.323</td>\n",
       "      <td>-0.563</td>\n",
       "    </tr>\n",
       "    <tr>\n",
       "      <th>18</th>\n",
       "      <td>10</td>\n",
       "      <td>542152.633</td>\n",
       "      <td>7676659.674</td>\n",
       "      <td>-0.563</td>\n",
       "    </tr>\n",
       "    <tr>\n",
       "      <th>19</th>\n",
       "      <td>10</td>\n",
       "      <td>542153.585</td>\n",
       "      <td>7678257.669</td>\n",
       "      <td>-0.563</td>\n",
       "    </tr>\n",
       "    <tr>\n",
       "      <th>20</th>\n",
       "      <td>11</td>\n",
       "      <td>539279.541</td>\n",
       "      <td>7677649.768</td>\n",
       "      <td>-0.563</td>\n",
       "    </tr>\n",
       "    <tr>\n",
       "      <th>21</th>\n",
       "      <td>11</td>\n",
       "      <td>544339.384</td>\n",
       "      <td>7677658.181</td>\n",
       "      <td>-0.563</td>\n",
       "    </tr>\n",
       "    <tr>\n",
       "      <th>22</th>\n",
       "      <td>12</td>\n",
       "      <td>539088.618</td>\n",
       "      <td>7678056.881</td>\n",
       "      <td>-0.563</td>\n",
       "    </tr>\n",
       "    <tr>\n",
       "      <th>23</th>\n",
       "      <td>12</td>\n",
       "      <td>544308.498</td>\n",
       "      <td>7678055.825</td>\n",
       "      <td>-0.563</td>\n",
       "    </tr>\n",
       "    <tr>\n",
       "      <th>24</th>\n",
       "      <td>13</td>\n",
       "      <td>539504.682</td>\n",
       "      <td>7677257.295</td>\n",
       "      <td>-0.563</td>\n",
       "    </tr>\n",
       "    <tr>\n",
       "      <th>25</th>\n",
       "      <td>13</td>\n",
       "      <td>544305.048</td>\n",
       "      <td>7677255.581</td>\n",
       "      <td>-0.563</td>\n",
       "    </tr>\n",
       "    <tr>\n",
       "      <th>26</th>\n",
       "      <td>14</td>\n",
       "      <td>539711.327</td>\n",
       "      <td>7676859.071</td>\n",
       "      <td>-0.563</td>\n",
       "    </tr>\n",
       "    <tr>\n",
       "      <th>27</th>\n",
       "      <td>14</td>\n",
       "      <td>544308.841</td>\n",
       "      <td>7676860.216</td>\n",
       "      <td>-0.563</td>\n",
       "    </tr>\n",
       "    <tr>\n",
       "      <th>28</th>\n",
       "      <td>15</td>\n",
       "      <td>538871.366</td>\n",
       "      <td>7678457.003</td>\n",
       "      <td>-0.563</td>\n",
       "    </tr>\n",
       "    <tr>\n",
       "      <th>29</th>\n",
       "      <td>15</td>\n",
       "      <td>544309.793</td>\n",
       "      <td>7678458.210</td>\n",
       "      <td>-0.563</td>\n",
       "    </tr>\n",
       "    <tr>\n",
       "      <th>30</th>\n",
       "      <td>16</td>\n",
       "      <td>540146.963</td>\n",
       "      <td>7676049.685</td>\n",
       "      <td>-0.563</td>\n",
       "    </tr>\n",
       "    <tr>\n",
       "      <th>31</th>\n",
       "      <td>16</td>\n",
       "      <td>544305.105</td>\n",
       "      <td>7676047.937</td>\n",
       "      <td>-0.563</td>\n",
       "    </tr>\n",
       "  </tbody>\n",
       "</table>\n",
       "</div>"
      ],
      "text/plain": [
       "    LineNo           E            N      Z\n",
       "0        1  540352.627  7677057.886 -0.563\n",
       "1        1  540353.648  7678924.260 -0.563\n",
       "2        2  540552.994  7676665.760 -0.563\n",
       "3        2  540553.833  7678924.988 -0.563\n",
       "4        3  540752.810  7676664.106 -0.563\n",
       "5        3  540753.581  7678654.954 -0.563\n",
       "6        4  540954.272  7676657.317 -0.563\n",
       "7        4  540954.504  7678660.449 -0.563\n",
       "8        5  541150.061  7676661.167 -0.563\n",
       "9        5  541149.555  7678659.532 -0.563\n",
       "10       6  541352.260  7676659.142 -0.563\n",
       "11       6  541352.843  7678254.755 -0.563\n",
       "12       7  541551.538  7676669.771 -0.563\n",
       "13       7  541553.028  7678255.484 -0.563\n",
       "14       8  541753.000  7676662.983 -0.563\n",
       "15       8  541754.859  7678251.077 -0.563\n",
       "16       9  541951.540  7676668.845 -0.563\n",
       "17       9  541953.768  7678259.323 -0.563\n",
       "18      10  542152.633  7676659.674 -0.563\n",
       "19      10  542153.585  7678257.669 -0.563\n",
       "20      11  539279.541  7677649.768 -0.563\n",
       "21      11  544339.384  7677658.181 -0.563\n",
       "22      12  539088.618  7678056.881 -0.563\n",
       "23      12  544308.498  7678055.825 -0.563\n",
       "24      13  539504.682  7677257.295 -0.563\n",
       "25      13  544305.048  7677255.581 -0.563\n",
       "26      14  539711.327  7676859.071 -0.563\n",
       "27      14  544308.841  7676860.216 -0.563\n",
       "28      15  538871.366  7678457.003 -0.563\n",
       "29      15  544309.793  7678458.210 -0.563\n",
       "30      16  540146.963  7676049.685 -0.563\n",
       "31      16  544305.105  7676047.937 -0.563"
      ]
     },
     "execution_count": 3,
     "metadata": {},
     "output_type": "execute_result"
    }
   ],
   "source": [
    "df = pd.read_csv(path, sep=\";\", header=None, names=[\"LineNo\", \"E\", \"N\", \"Z\"])\n",
    "df"
   ]
  },
  {
   "cell_type": "code",
   "execution_count": 4,
   "id": "d7656c13-343d-4075-8379-3828bc75c805",
   "metadata": {},
   "outputs": [],
   "source": [
    "lines = []\n",
    "\n",
    "for i in range(len(df[\"LineNo\"].unique())):\n",
    "    buff = df[df[\"LineNo\"]==i+1]\n",
    "    line = (\n",
    "        buff[\"E\"].values,\n",
    "        buff[\"N\"].values\n",
    "    )\n",
    "    lines.append(line)\n",
    "    "
   ]
  },
  {
   "cell_type": "code",
   "execution_count": 5,
   "id": "21372b47-4506-4601-99b6-8a69e15d574d",
   "metadata": {},
   "outputs": [
    {
     "data": {
      "text/plain": [
       "['C:\\\\Users\\\\Alina\\\\Desktop\\\\sgy\\\\sgy\\\\depth_ant_tracking.sgy',\n",
       " 'C:\\\\Users\\\\Alina\\\\Desktop\\\\sgy\\\\sgy\\\\depth_coherency.sgy',\n",
       " 'C:\\\\Users\\\\Alina\\\\Desktop\\\\sgy\\\\sgy\\\\depth_cosin_instantaneous_phase.sgy',\n",
       " 'C:\\\\Users\\\\Alina\\\\Desktop\\\\sgy\\\\sgy\\\\depth_relative_acoustic_impedance.sgy',\n",
       " 'C:\\\\Users\\\\Alina\\\\Desktop\\\\sgy\\\\sgy\\\\depth_stack_astack_soft_bin25.sgy']"
      ]
     },
     "execution_count": 5,
     "metadata": {},
     "output_type": "execute_result"
    }
   ],
   "source": [
    "\n",
    "names = ['arbitary line 1',\n",
    "'arbitary line 2',\n",
    "'arbitary line 3',\n",
    "'arbitary line 4',\n",
    "'arbitary line 5',\n",
    "'arbitary line 6',\n",
    "'arbitary line 7',\n",
    "'arbitary line 8',\n",
    "'arbitary line 9',\n",
    "'arbitary line 10',\n",
    "'arbitary line 11',\n",
    "'arbitary line 12',\n",
    "'arbitary line 13',\n",
    "'arbitary line 14',\n",
    "'arbitary line 15',\n",
    "'arbitary line 16']\n",
    "\n",
    "cubes = glob.glob(r\"C:\\Users\\Alina\\Desktop\\sgy\\sgy\\depth*.sgy\")\n",
    "cubes"
   ]
  },
  {
   "cell_type": "code",
   "execution_count": 14,
   "id": "dd32aae5-56c5-43bc-aeeb-df27cc0a764f",
   "metadata": {},
   "outputs": [
    {
     "data": {
      "application/vnd.jupyter.widget-view+json": {
       "model_id": "96bc62482dbc459aa01b8cc3aa1c94dd",
       "version_major": 2,
       "version_minor": 0
      },
      "text/plain": [
       "  0%|          | 0.00/11.9k [00:00<?, ? traces/s]"
      ]
     },
     "metadata": {},
     "output_type": "display_data"
    },
    {
     "name": "stdout",
     "output_type": "stream",
     "text": [
      "Loading as 3D\n",
      "Fast direction is TRACE_SEQUENCE_FILE\n"
     ]
    },
    {
     "data": {
      "application/vnd.jupyter.widget-view+json": {
       "model_id": "e668aec7e39240eabe9fdcaa38faa37d",
       "version_major": 2,
       "version_minor": 0
      },
      "text/plain": [
       "Converting SEGY:   0%|          | 0.00/11.9k [00:00<?, ? traces/s]"
      ]
     },
     "metadata": {},
     "output_type": "display_data"
    },
    {
     "data": {
      "application/vnd.jupyter.widget-view+json": {
       "model_id": "684591353957480fa454eed2947e0ad9",
       "version_major": 2,
       "version_minor": 0
      },
      "text/plain": [
       "  0%|          | 0.00/11.9k [00:00<?, ? traces/s]"
      ]
     },
     "metadata": {},
     "output_type": "display_data"
    },
    {
     "name": "stdout",
     "output_type": "stream",
     "text": [
      "Loading as 3D\n",
      "Fast direction is TRACE_SEQUENCE_FILE\n"
     ]
    },
    {
     "data": {
      "application/vnd.jupyter.widget-view+json": {
       "model_id": "2445c024f25e4b19bf518dfad92f0ad4",
       "version_major": 2,
       "version_minor": 0
      },
      "text/plain": [
       "Converting SEGY:   0%|          | 0.00/11.9k [00:00<?, ? traces/s]"
      ]
     },
     "metadata": {},
     "output_type": "display_data"
    },
    {
     "data": {
      "application/vnd.jupyter.widget-view+json": {
       "model_id": "b7c1d282fb0245c2883308bdf6181d13",
       "version_major": 2,
       "version_minor": 0
      },
      "text/plain": [
       "  0%|          | 0.00/11.9k [00:00<?, ? traces/s]"
      ]
     },
     "metadata": {},
     "output_type": "display_data"
    },
    {
     "name": "stdout",
     "output_type": "stream",
     "text": [
      "Loading as 3D\n",
      "Fast direction is TRACE_SEQUENCE_FILE\n"
     ]
    },
    {
     "data": {
      "application/vnd.jupyter.widget-view+json": {
       "model_id": "e0ad2ef8e6244098a0e6c9a477c374bd",
       "version_major": 2,
       "version_minor": 0
      },
      "text/plain": [
       "Converting SEGY:   0%|          | 0.00/11.9k [00:00<?, ? traces/s]"
      ]
     },
     "metadata": {},
     "output_type": "display_data"
    },
    {
     "data": {
      "application/vnd.jupyter.widget-view+json": {
       "model_id": "779c8d8a911045628b6eab38b7fbb4c0",
       "version_major": 2,
       "version_minor": 0
      },
      "text/plain": [
       "  0%|          | 0.00/11.9k [00:00<?, ? traces/s]"
      ]
     },
     "metadata": {},
     "output_type": "display_data"
    },
    {
     "name": "stdout",
     "output_type": "stream",
     "text": [
      "Loading as 3D\n",
      "Fast direction is TRACE_SEQUENCE_FILE\n"
     ]
    },
    {
     "data": {
      "application/vnd.jupyter.widget-view+json": {
       "model_id": "ab41c53fa96a4c61ad6812462fd949b4",
       "version_major": 2,
       "version_minor": 0
      },
      "text/plain": [
       "Converting SEGY:   0%|          | 0.00/11.9k [00:00<?, ? traces/s]"
      ]
     },
     "metadata": {},
     "output_type": "display_data"
    },
    {
     "data": {
      "application/vnd.jupyter.widget-view+json": {
       "model_id": "57f96602d105460ba0b93fd4f89ab11a",
       "version_major": 2,
       "version_minor": 0
      },
      "text/plain": [
       "  0%|          | 0.00/11.9k [00:00<?, ? traces/s]"
      ]
     },
     "metadata": {},
     "output_type": "display_data"
    },
    {
     "name": "stdout",
     "output_type": "stream",
     "text": [
      "Loading as 3D\n",
      "Fast direction is TRACE_SEQUENCE_FILE\n"
     ]
    },
    {
     "data": {
      "application/vnd.jupyter.widget-view+json": {
       "model_id": "5c5ed50dc30f415ebd219ec0b36a3685",
       "version_major": 2,
       "version_minor": 0
      },
      "text/plain": [
       "Converting SEGY:   0%|          | 0.00/11.9k [00:00<?, ? traces/s]"
      ]
     },
     "metadata": {},
     "output_type": "display_data"
    },
    {
     "data": {
      "application/vnd.jupyter.widget-view+json": {
       "model_id": "18d12b1ca85a451ab5a805fa113b34b4",
       "version_major": 2,
       "version_minor": 0
      },
      "text/plain": [
       "  0%|          | 0.00/11.9k [00:00<?, ? traces/s]"
      ]
     },
     "metadata": {},
     "output_type": "display_data"
    },
    {
     "name": "stdout",
     "output_type": "stream",
     "text": [
      "Loading as 3D\n",
      "Fast direction is TRACE_SEQUENCE_FILE\n"
     ]
    },
    {
     "data": {
      "application/vnd.jupyter.widget-view+json": {
       "model_id": "49e37aba85784bf18b293be8b0ef2a25",
       "version_major": 2,
       "version_minor": 0
      },
      "text/plain": [
       "Converting SEGY:   0%|          | 0.00/11.9k [00:00<?, ? traces/s]"
      ]
     },
     "metadata": {},
     "output_type": "display_data"
    },
    {
     "data": {
      "application/vnd.jupyter.widget-view+json": {
       "model_id": "702f47f4d09641ba847736001e9d4bef",
       "version_major": 2,
       "version_minor": 0
      },
      "text/plain": [
       "  0%|          | 0.00/11.9k [00:00<?, ? traces/s]"
      ]
     },
     "metadata": {},
     "output_type": "display_data"
    },
    {
     "name": "stdout",
     "output_type": "stream",
     "text": [
      "Loading as 3D\n",
      "Fast direction is TRACE_SEQUENCE_FILE\n"
     ]
    },
    {
     "data": {
      "application/vnd.jupyter.widget-view+json": {
       "model_id": "9029e44f6e824241853730af3176c9c8",
       "version_major": 2,
       "version_minor": 0
      },
      "text/plain": [
       "Converting SEGY:   0%|          | 0.00/11.9k [00:00<?, ? traces/s]"
      ]
     },
     "metadata": {},
     "output_type": "display_data"
    },
    {
     "data": {
      "application/vnd.jupyter.widget-view+json": {
       "model_id": "0eb99a6788a34e7ca292f9da0aeefba4",
       "version_major": 2,
       "version_minor": 0
      },
      "text/plain": [
       "  0%|          | 0.00/11.9k [00:00<?, ? traces/s]"
      ]
     },
     "metadata": {},
     "output_type": "display_data"
    },
    {
     "name": "stdout",
     "output_type": "stream",
     "text": [
      "Loading as 3D\n",
      "Fast direction is TRACE_SEQUENCE_FILE\n"
     ]
    },
    {
     "data": {
      "application/vnd.jupyter.widget-view+json": {
       "model_id": "aa860edd4f354025ad3c6ae0096464b2",
       "version_major": 2,
       "version_minor": 0
      },
      "text/plain": [
       "Converting SEGY:   0%|          | 0.00/11.9k [00:00<?, ? traces/s]"
      ]
     },
     "metadata": {},
     "output_type": "display_data"
    },
    {
     "data": {
      "application/vnd.jupyter.widget-view+json": {
       "model_id": "06ffeccd02d9472cae883266fa3d1b77",
       "version_major": 2,
       "version_minor": 0
      },
      "text/plain": [
       "  0%|          | 0.00/11.9k [00:00<?, ? traces/s]"
      ]
     },
     "metadata": {},
     "output_type": "display_data"
    },
    {
     "name": "stdout",
     "output_type": "stream",
     "text": [
      "Loading as 3D\n",
      "Fast direction is TRACE_SEQUENCE_FILE\n"
     ]
    },
    {
     "data": {
      "application/vnd.jupyter.widget-view+json": {
       "model_id": "8364f6b4b1e644058cf6f661ca77dd97",
       "version_major": 2,
       "version_minor": 0
      },
      "text/plain": [
       "Converting SEGY:   0%|          | 0.00/11.9k [00:00<?, ? traces/s]"
      ]
     },
     "metadata": {},
     "output_type": "display_data"
    },
    {
     "data": {
      "application/vnd.jupyter.widget-view+json": {
       "model_id": "2fa451925f124a2fb3b664c7ae9b4381",
       "version_major": 2,
       "version_minor": 0
      },
      "text/plain": [
       "  0%|          | 0.00/11.9k [00:00<?, ? traces/s]"
      ]
     },
     "metadata": {},
     "output_type": "display_data"
    },
    {
     "name": "stdout",
     "output_type": "stream",
     "text": [
      "Loading as 3D\n",
      "Fast direction is TRACE_SEQUENCE_FILE\n"
     ]
    },
    {
     "data": {
      "application/vnd.jupyter.widget-view+json": {
       "model_id": "23bd04155d2e42daaa939afa91919380",
       "version_major": 2,
       "version_minor": 0
      },
      "text/plain": [
       "Converting SEGY:   0%|          | 0.00/11.9k [00:00<?, ? traces/s]"
      ]
     },
     "metadata": {},
     "output_type": "display_data"
    },
    {
     "data": {
      "application/vnd.jupyter.widget-view+json": {
       "model_id": "67591faf2b334d36827aaec061a7f9d8",
       "version_major": 2,
       "version_minor": 0
      },
      "text/plain": [
       "  0%|          | 0.00/11.9k [00:00<?, ? traces/s]"
      ]
     },
     "metadata": {},
     "output_type": "display_data"
    },
    {
     "name": "stdout",
     "output_type": "stream",
     "text": [
      "Loading as 3D\n",
      "Fast direction is TRACE_SEQUENCE_FILE\n"
     ]
    },
    {
     "data": {
      "application/vnd.jupyter.widget-view+json": {
       "model_id": "696b16fb3c494743a220fa4bc790bcb6",
       "version_major": 2,
       "version_minor": 0
      },
      "text/plain": [
       "Converting SEGY:   0%|          | 0.00/11.9k [00:00<?, ? traces/s]"
      ]
     },
     "metadata": {},
     "output_type": "display_data"
    },
    {
     "data": {
      "application/vnd.jupyter.widget-view+json": {
       "model_id": "0c913b295b7642d9abbf2e7c208adeac",
       "version_major": 2,
       "version_minor": 0
      },
      "text/plain": [
       "  0%|          | 0.00/11.9k [00:00<?, ? traces/s]"
      ]
     },
     "metadata": {},
     "output_type": "display_data"
    },
    {
     "name": "stdout",
     "output_type": "stream",
     "text": [
      "Loading as 3D\n",
      "Fast direction is TRACE_SEQUENCE_FILE\n"
     ]
    },
    {
     "data": {
      "application/vnd.jupyter.widget-view+json": {
       "model_id": "5630dfdf7a71444c812adf175afeaf46",
       "version_major": 2,
       "version_minor": 0
      },
      "text/plain": [
       "Converting SEGY:   0%|          | 0.00/11.9k [00:00<?, ? traces/s]"
      ]
     },
     "metadata": {},
     "output_type": "display_data"
    },
    {
     "data": {
      "application/vnd.jupyter.widget-view+json": {
       "model_id": "52a6307e4e164c889b22c86fdaaed2ac",
       "version_major": 2,
       "version_minor": 0
      },
      "text/plain": [
       "  0%|          | 0.00/11.9k [00:00<?, ? traces/s]"
      ]
     },
     "metadata": {},
     "output_type": "display_data"
    },
    {
     "name": "stdout",
     "output_type": "stream",
     "text": [
      "Loading as 3D\n",
      "Fast direction is TRACE_SEQUENCE_FILE\n"
     ]
    },
    {
     "data": {
      "application/vnd.jupyter.widget-view+json": {
       "model_id": "264ef4db4cbe4223b08c0a2b5238abc7",
       "version_major": 2,
       "version_minor": 0
      },
      "text/plain": [
       "Converting SEGY:   0%|          | 0.00/11.9k [00:00<?, ? traces/s]"
      ]
     },
     "metadata": {},
     "output_type": "display_data"
    },
    {
     "data": {
      "application/vnd.jupyter.widget-view+json": {
       "model_id": "9fa54f1e5cce49aa9ebba3bcfc0cfa0e",
       "version_major": 2,
       "version_minor": 0
      },
      "text/plain": [
       "  0%|          | 0.00/11.9k [00:00<?, ? traces/s]"
      ]
     },
     "metadata": {},
     "output_type": "display_data"
    },
    {
     "name": "stdout",
     "output_type": "stream",
     "text": [
      "Loading as 3D\n",
      "Fast direction is TRACE_SEQUENCE_FILE\n"
     ]
    },
    {
     "data": {
      "application/vnd.jupyter.widget-view+json": {
       "model_id": "38e3c578c532423fb7560310fc5ba8e9",
       "version_major": 2,
       "version_minor": 0
      },
      "text/plain": [
       "Converting SEGY:   0%|          | 0.00/11.9k [00:00<?, ? traces/s]"
      ]
     },
     "metadata": {},
     "output_type": "display_data"
    },
    {
     "data": {
      "application/vnd.jupyter.widget-view+json": {
       "model_id": "eb9cffdd22d747d9a7081a54724703c1",
       "version_major": 2,
       "version_minor": 0
      },
      "text/plain": [
       "  0%|          | 0.00/11.9k [00:00<?, ? traces/s]"
      ]
     },
     "metadata": {},
     "output_type": "display_data"
    },
    {
     "name": "stdout",
     "output_type": "stream",
     "text": [
      "Loading as 3D\n",
      "Fast direction is TRACE_SEQUENCE_FILE\n"
     ]
    },
    {
     "data": {
      "application/vnd.jupyter.widget-view+json": {
       "model_id": "a12292daac8b43f1b38ec5fe9f0507af",
       "version_major": 2,
       "version_minor": 0
      },
      "text/plain": [
       "Converting SEGY:   0%|          | 0.00/11.9k [00:00<?, ? traces/s]"
      ]
     },
     "metadata": {},
     "output_type": "display_data"
    },
    {
     "data": {
      "application/vnd.jupyter.widget-view+json": {
       "model_id": "da2c5de877ac48d7a4a6b33611619252",
       "version_major": 2,
       "version_minor": 0
      },
      "text/plain": [
       "  0%|          | 0.00/11.9k [00:00<?, ? traces/s]"
      ]
     },
     "metadata": {},
     "output_type": "display_data"
    },
    {
     "name": "stdout",
     "output_type": "stream",
     "text": [
      "Loading as 3D\n",
      "Fast direction is TRACE_SEQUENCE_FILE\n"
     ]
    },
    {
     "data": {
      "application/vnd.jupyter.widget-view+json": {
       "model_id": "83d41a81e1934fdbaffa6b5d5a509323",
       "version_major": 2,
       "version_minor": 0
      },
      "text/plain": [
       "Converting SEGY:   0%|          | 0.00/11.9k [00:00<?, ? traces/s]"
      ]
     },
     "metadata": {},
     "output_type": "display_data"
    },
    {
     "data": {
      "application/vnd.jupyter.widget-view+json": {
       "model_id": "3d68c4b308b54a799186d0b35e903612",
       "version_major": 2,
       "version_minor": 0
      },
      "text/plain": [
       "  0%|          | 0.00/11.9k [00:00<?, ? traces/s]"
      ]
     },
     "metadata": {},
     "output_type": "display_data"
    },
    {
     "name": "stdout",
     "output_type": "stream",
     "text": [
      "Loading as 3D\n",
      "Fast direction is TRACE_SEQUENCE_FILE\n"
     ]
    },
    {
     "data": {
      "application/vnd.jupyter.widget-view+json": {
       "model_id": "b6905c9ae82d45dc98158dd71455e53b",
       "version_major": 2,
       "version_minor": 0
      },
      "text/plain": [
       "Converting SEGY:   0%|          | 0.00/11.9k [00:00<?, ? traces/s]"
      ]
     },
     "metadata": {},
     "output_type": "display_data"
    },
    {
     "data": {
      "application/vnd.jupyter.widget-view+json": {
       "model_id": "7bb9366c0dec462db76ab166c2f7fac3",
       "version_major": 2,
       "version_minor": 0
      },
      "text/plain": [
       "  0%|          | 0.00/11.9k [00:00<?, ? traces/s]"
      ]
     },
     "metadata": {},
     "output_type": "display_data"
    },
    {
     "name": "stdout",
     "output_type": "stream",
     "text": [
      "Loading as 3D\n",
      "Fast direction is TRACE_SEQUENCE_FILE\n"
     ]
    },
    {
     "data": {
      "application/vnd.jupyter.widget-view+json": {
       "model_id": "34a09d5c188f4a3fb175bc6e4841c6b4",
       "version_major": 2,
       "version_minor": 0
      },
      "text/plain": [
       "Converting SEGY:   0%|          | 0.00/11.9k [00:00<?, ? traces/s]"
      ]
     },
     "metadata": {},
     "output_type": "display_data"
    },
    {
     "data": {
      "application/vnd.jupyter.widget-view+json": {
       "model_id": "1a94796d821b41a3a071c4647e0fd4cd",
       "version_major": 2,
       "version_minor": 0
      },
      "text/plain": [
       "  0%|          | 0.00/11.9k [00:00<?, ? traces/s]"
      ]
     },
     "metadata": {},
     "output_type": "display_data"
    },
    {
     "name": "stdout",
     "output_type": "stream",
     "text": [
      "Loading as 3D\n",
      "Fast direction is TRACE_SEQUENCE_FILE\n"
     ]
    },
    {
     "data": {
      "application/vnd.jupyter.widget-view+json": {
       "model_id": "97400c5b8b5d4d6eae672aa02edf4d1c",
       "version_major": 2,
       "version_minor": 0
      },
      "text/plain": [
       "Converting SEGY:   0%|          | 0.00/11.9k [00:00<?, ? traces/s]"
      ]
     },
     "metadata": {},
     "output_type": "display_data"
    },
    {
     "data": {
      "application/vnd.jupyter.widget-view+json": {
       "model_id": "cb0366b150194e00a57969fea3c980d5",
       "version_major": 2,
       "version_minor": 0
      },
      "text/plain": [
       "  0%|          | 0.00/11.9k [00:00<?, ? traces/s]"
      ]
     },
     "metadata": {},
     "output_type": "display_data"
    },
    {
     "name": "stdout",
     "output_type": "stream",
     "text": [
      "Loading as 3D\n",
      "Fast direction is TRACE_SEQUENCE_FILE\n"
     ]
    },
    {
     "data": {
      "application/vnd.jupyter.widget-view+json": {
       "model_id": "30f1fee5abb547ff8554ee63918a916b",
       "version_major": 2,
       "version_minor": 0
      },
      "text/plain": [
       "Converting SEGY:   0%|          | 0.00/11.9k [00:00<?, ? traces/s]"
      ]
     },
     "metadata": {},
     "output_type": "display_data"
    },
    {
     "data": {
      "application/vnd.jupyter.widget-view+json": {
       "model_id": "84d0200b14b64a12b6cbc65bb9c577ea",
       "version_major": 2,
       "version_minor": 0
      },
      "text/plain": [
       "  0%|          | 0.00/11.9k [00:00<?, ? traces/s]"
      ]
     },
     "metadata": {},
     "output_type": "display_data"
    },
    {
     "name": "stdout",
     "output_type": "stream",
     "text": [
      "Loading as 3D\n",
      "Fast direction is TRACE_SEQUENCE_FILE\n"
     ]
    },
    {
     "data": {
      "application/vnd.jupyter.widget-view+json": {
       "model_id": "1814394bc7eb40a2a1fde489fd720e1e",
       "version_major": 2,
       "version_minor": 0
      },
      "text/plain": [
       "Converting SEGY:   0%|          | 0.00/11.9k [00:00<?, ? traces/s]"
      ]
     },
     "metadata": {},
     "output_type": "display_data"
    },
    {
     "data": {
      "application/vnd.jupyter.widget-view+json": {
       "model_id": "54b39a94a53c45718fb68627a847b57e",
       "version_major": 2,
       "version_minor": 0
      },
      "text/plain": [
       "  0%|          | 0.00/11.9k [00:00<?, ? traces/s]"
      ]
     },
     "metadata": {},
     "output_type": "display_data"
    },
    {
     "name": "stdout",
     "output_type": "stream",
     "text": [
      "Loading as 3D\n",
      "Fast direction is TRACE_SEQUENCE_FILE\n"
     ]
    },
    {
     "data": {
      "application/vnd.jupyter.widget-view+json": {
       "model_id": "4fe19bb4b21e49d5af0405a26b96d0f2",
       "version_major": 2,
       "version_minor": 0
      },
      "text/plain": [
       "Converting SEGY:   0%|          | 0.00/11.9k [00:00<?, ? traces/s]"
      ]
     },
     "metadata": {},
     "output_type": "display_data"
    },
    {
     "data": {
      "application/vnd.jupyter.widget-view+json": {
       "model_id": "df645a2a70904dd1a8563c1dec846685",
       "version_major": 2,
       "version_minor": 0
      },
      "text/plain": [
       "  0%|          | 0.00/11.9k [00:00<?, ? traces/s]"
      ]
     },
     "metadata": {},
     "output_type": "display_data"
    },
    {
     "name": "stdout",
     "output_type": "stream",
     "text": [
      "Loading as 3D\n",
      "Fast direction is TRACE_SEQUENCE_FILE\n"
     ]
    },
    {
     "data": {
      "application/vnd.jupyter.widget-view+json": {
       "model_id": "4db37f18c33f4ed49138fae78f00d15a",
       "version_major": 2,
       "version_minor": 0
      },
      "text/plain": [
       "Converting SEGY:   0%|          | 0.00/11.9k [00:00<?, ? traces/s]"
      ]
     },
     "metadata": {},
     "output_type": "display_data"
    },
    {
     "data": {
      "application/vnd.jupyter.widget-view+json": {
       "model_id": "521a724f2da44c4886cb9e7c279e4047",
       "version_major": 2,
       "version_minor": 0
      },
      "text/plain": [
       "  0%|          | 0.00/11.9k [00:00<?, ? traces/s]"
      ]
     },
     "metadata": {},
     "output_type": "display_data"
    },
    {
     "name": "stdout",
     "output_type": "stream",
     "text": [
      "Loading as 3D\n",
      "Fast direction is TRACE_SEQUENCE_FILE\n"
     ]
    },
    {
     "data": {
      "application/vnd.jupyter.widget-view+json": {
       "model_id": "fde24ae304604f8d9d3e08a2ef69c965",
       "version_major": 2,
       "version_minor": 0
      },
      "text/plain": [
       "Converting SEGY:   0%|          | 0.00/11.9k [00:00<?, ? traces/s]"
      ]
     },
     "metadata": {},
     "output_type": "display_data"
    },
    {
     "data": {
      "application/vnd.jupyter.widget-view+json": {
       "model_id": "c70fdf2166cd4bd6aa2ba54a33082ca6",
       "version_major": 2,
       "version_minor": 0
      },
      "text/plain": [
       "  0%|          | 0.00/11.9k [00:00<?, ? traces/s]"
      ]
     },
     "metadata": {},
     "output_type": "display_data"
    },
    {
     "name": "stdout",
     "output_type": "stream",
     "text": [
      "Loading as 3D\n",
      "Fast direction is TRACE_SEQUENCE_FILE\n"
     ]
    },
    {
     "data": {
      "application/vnd.jupyter.widget-view+json": {
       "model_id": "239c7fd5a7de48d3b1a8b784761d9209",
       "version_major": 2,
       "version_minor": 0
      },
      "text/plain": [
       "Converting SEGY:   0%|          | 0.00/11.9k [00:00<?, ? traces/s]"
      ]
     },
     "metadata": {},
     "output_type": "display_data"
    },
    {
     "data": {
      "application/vnd.jupyter.widget-view+json": {
       "model_id": "25e4b70bfa7d4e049c5bba893e5b0bf8",
       "version_major": 2,
       "version_minor": 0
      },
      "text/plain": [
       "  0%|          | 0.00/11.9k [00:00<?, ? traces/s]"
      ]
     },
     "metadata": {},
     "output_type": "display_data"
    },
    {
     "name": "stdout",
     "output_type": "stream",
     "text": [
      "Loading as 3D\n",
      "Fast direction is TRACE_SEQUENCE_FILE\n"
     ]
    },
    {
     "data": {
      "application/vnd.jupyter.widget-view+json": {
       "model_id": "d8ef22dcd7af480fb83759fa8d60cd0b",
       "version_major": 2,
       "version_minor": 0
      },
      "text/plain": [
       "Converting SEGY:   0%|          | 0.00/11.9k [00:00<?, ? traces/s]"
      ]
     },
     "metadata": {},
     "output_type": "display_data"
    },
    {
     "data": {
      "application/vnd.jupyter.widget-view+json": {
       "model_id": "7f66e31cbdf74401adb97c64bade88f4",
       "version_major": 2,
       "version_minor": 0
      },
      "text/plain": [
       "  0%|          | 0.00/11.9k [00:00<?, ? traces/s]"
      ]
     },
     "metadata": {},
     "output_type": "display_data"
    },
    {
     "name": "stdout",
     "output_type": "stream",
     "text": [
      "Loading as 3D\n",
      "Fast direction is TRACE_SEQUENCE_FILE\n"
     ]
    },
    {
     "data": {
      "application/vnd.jupyter.widget-view+json": {
       "model_id": "a7827287a4ce4a0a8a452513a2b45c5e",
       "version_major": 2,
       "version_minor": 0
      },
      "text/plain": [
       "Converting SEGY:   0%|          | 0.00/11.9k [00:00<?, ? traces/s]"
      ]
     },
     "metadata": {},
     "output_type": "display_data"
    },
    {
     "data": {
      "application/vnd.jupyter.widget-view+json": {
       "model_id": "ed13764b276644e68f5cded138602f68",
       "version_major": 2,
       "version_minor": 0
      },
      "text/plain": [
       "  0%|          | 0.00/11.9k [00:00<?, ? traces/s]"
      ]
     },
     "metadata": {},
     "output_type": "display_data"
    },
    {
     "name": "stdout",
     "output_type": "stream",
     "text": [
      "Loading as 3D\n",
      "Fast direction is TRACE_SEQUENCE_FILE\n"
     ]
    },
    {
     "data": {
      "application/vnd.jupyter.widget-view+json": {
       "model_id": "0ee8abed7c1c4259829c8b31c36de1ac",
       "version_major": 2,
       "version_minor": 0
      },
      "text/plain": [
       "Converting SEGY:   0%|          | 0.00/11.9k [00:00<?, ? traces/s]"
      ]
     },
     "metadata": {},
     "output_type": "display_data"
    },
    {
     "data": {
      "application/vnd.jupyter.widget-view+json": {
       "model_id": "9d5e014a3626444598d5ba7fd72fd76e",
       "version_major": 2,
       "version_minor": 0
      },
      "text/plain": [
       "  0%|          | 0.00/11.9k [00:00<?, ? traces/s]"
      ]
     },
     "metadata": {},
     "output_type": "display_data"
    },
    {
     "name": "stdout",
     "output_type": "stream",
     "text": [
      "Loading as 3D\n",
      "Fast direction is TRACE_SEQUENCE_FILE\n"
     ]
    },
    {
     "data": {
      "application/vnd.jupyter.widget-view+json": {
       "model_id": "3087548de2d54502b13d27b7bd04687a",
       "version_major": 2,
       "version_minor": 0
      },
      "text/plain": [
       "Converting SEGY:   0%|          | 0.00/11.9k [00:00<?, ? traces/s]"
      ]
     },
     "metadata": {},
     "output_type": "display_data"
    },
    {
     "data": {
      "application/vnd.jupyter.widget-view+json": {
       "model_id": "2c683bca057741458e3e33a0682f9211",
       "version_major": 2,
       "version_minor": 0
      },
      "text/plain": [
       "  0%|          | 0.00/11.9k [00:00<?, ? traces/s]"
      ]
     },
     "metadata": {},
     "output_type": "display_data"
    },
    {
     "name": "stdout",
     "output_type": "stream",
     "text": [
      "Loading as 3D\n",
      "Fast direction is TRACE_SEQUENCE_FILE\n"
     ]
    },
    {
     "data": {
      "application/vnd.jupyter.widget-view+json": {
       "model_id": "0e7ddc28a6b045ce8ee8daa29dc0a01e",
       "version_major": 2,
       "version_minor": 0
      },
      "text/plain": [
       "Converting SEGY:   0%|          | 0.00/11.9k [00:00<?, ? traces/s]"
      ]
     },
     "metadata": {},
     "output_type": "display_data"
    },
    {
     "data": {
      "application/vnd.jupyter.widget-view+json": {
       "model_id": "5c62e78e06bd47bda20e909c8c71a9c3",
       "version_major": 2,
       "version_minor": 0
      },
      "text/plain": [
       "  0%|          | 0.00/11.9k [00:00<?, ? traces/s]"
      ]
     },
     "metadata": {},
     "output_type": "display_data"
    },
    {
     "name": "stdout",
     "output_type": "stream",
     "text": [
      "Loading as 3D\n",
      "Fast direction is TRACE_SEQUENCE_FILE\n"
     ]
    },
    {
     "data": {
      "application/vnd.jupyter.widget-view+json": {
       "model_id": "6317470525b744cda0e1def48730f442",
       "version_major": 2,
       "version_minor": 0
      },
      "text/plain": [
       "Converting SEGY:   0%|          | 0.00/11.9k [00:00<?, ? traces/s]"
      ]
     },
     "metadata": {},
     "output_type": "display_data"
    },
    {
     "data": {
      "application/vnd.jupyter.widget-view+json": {
       "model_id": "8b9ae83667c94981b292ce8778145cbc",
       "version_major": 2,
       "version_minor": 0
      },
      "text/plain": [
       "  0%|          | 0.00/11.9k [00:00<?, ? traces/s]"
      ]
     },
     "metadata": {},
     "output_type": "display_data"
    },
    {
     "name": "stdout",
     "output_type": "stream",
     "text": [
      "Loading as 3D\n",
      "Fast direction is TRACE_SEQUENCE_FILE\n"
     ]
    },
    {
     "data": {
      "application/vnd.jupyter.widget-view+json": {
       "model_id": "99b686913f09456a98b34ecc4ac9fa58",
       "version_major": 2,
       "version_minor": 0
      },
      "text/plain": [
       "Converting SEGY:   0%|          | 0.00/11.9k [00:00<?, ? traces/s]"
      ]
     },
     "metadata": {},
     "output_type": "display_data"
    },
    {
     "data": {
      "application/vnd.jupyter.widget-view+json": {
       "model_id": "f2a0a81815a14ba69bc0307db4c5df41",
       "version_major": 2,
       "version_minor": 0
      },
      "text/plain": [
       "  0%|          | 0.00/11.9k [00:00<?, ? traces/s]"
      ]
     },
     "metadata": {},
     "output_type": "display_data"
    },
    {
     "name": "stdout",
     "output_type": "stream",
     "text": [
      "Loading as 3D\n",
      "Fast direction is TRACE_SEQUENCE_FILE\n"
     ]
    },
    {
     "data": {
      "application/vnd.jupyter.widget-view+json": {
       "model_id": "2c4678229a344f7ca117a850ad639cdc",
       "version_major": 2,
       "version_minor": 0
      },
      "text/plain": [
       "Converting SEGY:   0%|          | 0.00/11.9k [00:00<?, ? traces/s]"
      ]
     },
     "metadata": {},
     "output_type": "display_data"
    },
    {
     "data": {
      "application/vnd.jupyter.widget-view+json": {
       "model_id": "26412f32d9294431841c8df64ab41835",
       "version_major": 2,
       "version_minor": 0
      },
      "text/plain": [
       "  0%|          | 0.00/11.9k [00:00<?, ? traces/s]"
      ]
     },
     "metadata": {},
     "output_type": "display_data"
    },
    {
     "name": "stdout",
     "output_type": "stream",
     "text": [
      "Loading as 3D\n",
      "Fast direction is TRACE_SEQUENCE_FILE\n"
     ]
    },
    {
     "data": {
      "application/vnd.jupyter.widget-view+json": {
       "model_id": "23e4c9827af44995bb9ea8f44fd2e702",
       "version_major": 2,
       "version_minor": 0
      },
      "text/plain": [
       "Converting SEGY:   0%|          | 0.00/11.9k [00:00<?, ? traces/s]"
      ]
     },
     "metadata": {},
     "output_type": "display_data"
    },
    {
     "data": {
      "application/vnd.jupyter.widget-view+json": {
       "model_id": "d06c97b1fcd44e7280a0bee3c8ac57f7",
       "version_major": 2,
       "version_minor": 0
      },
      "text/plain": [
       "  0%|          | 0.00/11.9k [00:00<?, ? traces/s]"
      ]
     },
     "metadata": {},
     "output_type": "display_data"
    },
    {
     "name": "stdout",
     "output_type": "stream",
     "text": [
      "Loading as 3D\n",
      "Fast direction is TRACE_SEQUENCE_FILE\n"
     ]
    },
    {
     "data": {
      "application/vnd.jupyter.widget-view+json": {
       "model_id": "a75f7d0d94e744219d02c810b5a03a28",
       "version_major": 2,
       "version_minor": 0
      },
      "text/plain": [
       "Converting SEGY:   0%|          | 0.00/11.9k [00:00<?, ? traces/s]"
      ]
     },
     "metadata": {},
     "output_type": "display_data"
    },
    {
     "data": {
      "application/vnd.jupyter.widget-view+json": {
       "model_id": "5a2f3ac77357463ca31a208af497e6ce",
       "version_major": 2,
       "version_minor": 0
      },
      "text/plain": [
       "  0%|          | 0.00/11.9k [00:00<?, ? traces/s]"
      ]
     },
     "metadata": {},
     "output_type": "display_data"
    },
    {
     "name": "stdout",
     "output_type": "stream",
     "text": [
      "Loading as 3D\n",
      "Fast direction is TRACE_SEQUENCE_FILE\n"
     ]
    },
    {
     "data": {
      "application/vnd.jupyter.widget-view+json": {
       "model_id": "3bbd33dfe3024926a6af3e7e7ef34713",
       "version_major": 2,
       "version_minor": 0
      },
      "text/plain": [
       "Converting SEGY:   0%|          | 0.00/11.9k [00:00<?, ? traces/s]"
      ]
     },
     "metadata": {},
     "output_type": "display_data"
    },
    {
     "data": {
      "application/vnd.jupyter.widget-view+json": {
       "model_id": "b0fa54ed020947a3867145172bb6d1e9",
       "version_major": 2,
       "version_minor": 0
      },
      "text/plain": [
       "  0%|          | 0.00/11.9k [00:00<?, ? traces/s]"
      ]
     },
     "metadata": {},
     "output_type": "display_data"
    },
    {
     "name": "stdout",
     "output_type": "stream",
     "text": [
      "Loading as 3D\n",
      "Fast direction is TRACE_SEQUENCE_FILE\n"
     ]
    },
    {
     "data": {
      "application/vnd.jupyter.widget-view+json": {
       "model_id": "37b4cab29f954997b22547ee95cc7c06",
       "version_major": 2,
       "version_minor": 0
      },
      "text/plain": [
       "Converting SEGY:   0%|          | 0.00/11.9k [00:00<?, ? traces/s]"
      ]
     },
     "metadata": {},
     "output_type": "display_data"
    },
    {
     "data": {
      "application/vnd.jupyter.widget-view+json": {
       "model_id": "fa89e96c41014d61b4d4ed7a091cb5fd",
       "version_major": 2,
       "version_minor": 0
      },
      "text/plain": [
       "  0%|          | 0.00/11.9k [00:00<?, ? traces/s]"
      ]
     },
     "metadata": {},
     "output_type": "display_data"
    },
    {
     "name": "stdout",
     "output_type": "stream",
     "text": [
      "Loading as 3D\n",
      "Fast direction is TRACE_SEQUENCE_FILE\n"
     ]
    },
    {
     "data": {
      "application/vnd.jupyter.widget-view+json": {
       "model_id": "d9f07781cda24a13804b952339fd8db9",
       "version_major": 2,
       "version_minor": 0
      },
      "text/plain": [
       "Converting SEGY:   0%|          | 0.00/11.9k [00:00<?, ? traces/s]"
      ]
     },
     "metadata": {},
     "output_type": "display_data"
    },
    {
     "data": {
      "application/vnd.jupyter.widget-view+json": {
       "model_id": "fe6f19f8d30844b6b87c730b1169524d",
       "version_major": 2,
       "version_minor": 0
      },
      "text/plain": [
       "  0%|          | 0.00/11.9k [00:00<?, ? traces/s]"
      ]
     },
     "metadata": {},
     "output_type": "display_data"
    },
    {
     "name": "stdout",
     "output_type": "stream",
     "text": [
      "Loading as 3D\n",
      "Fast direction is TRACE_SEQUENCE_FILE\n"
     ]
    },
    {
     "data": {
      "application/vnd.jupyter.widget-view+json": {
       "model_id": "daad3f982fa24bcf8e5810fbf25f925c",
       "version_major": 2,
       "version_minor": 0
      },
      "text/plain": [
       "Converting SEGY:   0%|          | 0.00/11.9k [00:00<?, ? traces/s]"
      ]
     },
     "metadata": {},
     "output_type": "display_data"
    },
    {
     "data": {
      "application/vnd.jupyter.widget-view+json": {
       "model_id": "88784d9eb060489bab069a0ba617cb20",
       "version_major": 2,
       "version_minor": 0
      },
      "text/plain": [
       "  0%|          | 0.00/11.9k [00:00<?, ? traces/s]"
      ]
     },
     "metadata": {},
     "output_type": "display_data"
    },
    {
     "name": "stdout",
     "output_type": "stream",
     "text": [
      "Loading as 3D\n",
      "Fast direction is TRACE_SEQUENCE_FILE\n"
     ]
    },
    {
     "data": {
      "application/vnd.jupyter.widget-view+json": {
       "model_id": "f1e33f66140e4327b0321e31cd640682",
       "version_major": 2,
       "version_minor": 0
      },
      "text/plain": [
       "Converting SEGY:   0%|          | 0.00/11.9k [00:00<?, ? traces/s]"
      ]
     },
     "metadata": {},
     "output_type": "display_data"
    },
    {
     "data": {
      "application/vnd.jupyter.widget-view+json": {
       "model_id": "95657192c0b9432ea3b907f091858555",
       "version_major": 2,
       "version_minor": 0
      },
      "text/plain": [
       "  0%|          | 0.00/11.9k [00:00<?, ? traces/s]"
      ]
     },
     "metadata": {},
     "output_type": "display_data"
    },
    {
     "name": "stdout",
     "output_type": "stream",
     "text": [
      "Loading as 3D\n",
      "Fast direction is TRACE_SEQUENCE_FILE\n"
     ]
    },
    {
     "data": {
      "application/vnd.jupyter.widget-view+json": {
       "model_id": "f736fe5d416945eb866d300b9ca02ffa",
       "version_major": 2,
       "version_minor": 0
      },
      "text/plain": [
       "Converting SEGY:   0%|          | 0.00/11.9k [00:00<?, ? traces/s]"
      ]
     },
     "metadata": {},
     "output_type": "display_data"
    },
    {
     "data": {
      "application/vnd.jupyter.widget-view+json": {
       "model_id": "af6b0ddf51804f77bd50dc965fe38296",
       "version_major": 2,
       "version_minor": 0
      },
      "text/plain": [
       "  0%|          | 0.00/11.9k [00:00<?, ? traces/s]"
      ]
     },
     "metadata": {},
     "output_type": "display_data"
    },
    {
     "name": "stdout",
     "output_type": "stream",
     "text": [
      "Loading as 3D\n",
      "Fast direction is TRACE_SEQUENCE_FILE\n"
     ]
    },
    {
     "data": {
      "application/vnd.jupyter.widget-view+json": {
       "model_id": "c09acc0156ad4bc5a95590ac09f18690",
       "version_major": 2,
       "version_minor": 0
      },
      "text/plain": [
       "Converting SEGY:   0%|          | 0.00/11.9k [00:00<?, ? traces/s]"
      ]
     },
     "metadata": {},
     "output_type": "display_data"
    },
    {
     "data": {
      "application/vnd.jupyter.widget-view+json": {
       "model_id": "5733fdf229614a5592baa51115a6c05d",
       "version_major": 2,
       "version_minor": 0
      },
      "text/plain": [
       "  0%|          | 0.00/11.9k [00:00<?, ? traces/s]"
      ]
     },
     "metadata": {},
     "output_type": "display_data"
    },
    {
     "name": "stdout",
     "output_type": "stream",
     "text": [
      "Loading as 3D\n",
      "Fast direction is TRACE_SEQUENCE_FILE\n"
     ]
    },
    {
     "data": {
      "application/vnd.jupyter.widget-view+json": {
       "model_id": "115a15d0bfa94d63be0b0b044402681c",
       "version_major": 2,
       "version_minor": 0
      },
      "text/plain": [
       "Converting SEGY:   0%|          | 0.00/11.9k [00:00<?, ? traces/s]"
      ]
     },
     "metadata": {},
     "output_type": "display_data"
    },
    {
     "data": {
      "application/vnd.jupyter.widget-view+json": {
       "model_id": "37ec79abad0e451aa1e5550c7c4f09f1",
       "version_major": 2,
       "version_minor": 0
      },
      "text/plain": [
       "  0%|          | 0.00/11.9k [00:00<?, ? traces/s]"
      ]
     },
     "metadata": {},
     "output_type": "display_data"
    },
    {
     "name": "stdout",
     "output_type": "stream",
     "text": [
      "Loading as 3D\n",
      "Fast direction is TRACE_SEQUENCE_FILE\n"
     ]
    },
    {
     "data": {
      "application/vnd.jupyter.widget-view+json": {
       "model_id": "71e711b9da334aa2a0b8ae3c288aa943",
       "version_major": 2,
       "version_minor": 0
      },
      "text/plain": [
       "Converting SEGY:   0%|          | 0.00/11.9k [00:00<?, ? traces/s]"
      ]
     },
     "metadata": {},
     "output_type": "display_data"
    },
    {
     "data": {
      "application/vnd.jupyter.widget-view+json": {
       "model_id": "c03bf3674d344b969c2b9c5c4b84189e",
       "version_major": 2,
       "version_minor": 0
      },
      "text/plain": [
       "  0%|          | 0.00/11.9k [00:00<?, ? traces/s]"
      ]
     },
     "metadata": {},
     "output_type": "display_data"
    },
    {
     "name": "stdout",
     "output_type": "stream",
     "text": [
      "Loading as 3D\n",
      "Fast direction is TRACE_SEQUENCE_FILE\n"
     ]
    },
    {
     "data": {
      "application/vnd.jupyter.widget-view+json": {
       "model_id": "f78e13167e944b58ad0cb5a729d6453f",
       "version_major": 2,
       "version_minor": 0
      },
      "text/plain": [
       "Converting SEGY:   0%|          | 0.00/11.9k [00:00<?, ? traces/s]"
      ]
     },
     "metadata": {},
     "output_type": "display_data"
    },
    {
     "data": {
      "application/vnd.jupyter.widget-view+json": {
       "model_id": "d121ca3392ca40ff957b7e91b51b03ea",
       "version_major": 2,
       "version_minor": 0
      },
      "text/plain": [
       "  0%|          | 0.00/11.9k [00:00<?, ? traces/s]"
      ]
     },
     "metadata": {},
     "output_type": "display_data"
    },
    {
     "name": "stdout",
     "output_type": "stream",
     "text": [
      "Loading as 3D\n",
      "Fast direction is TRACE_SEQUENCE_FILE\n"
     ]
    },
    {
     "data": {
      "application/vnd.jupyter.widget-view+json": {
       "model_id": "b985ab8ce79843148244dc459aa5e7d1",
       "version_major": 2,
       "version_minor": 0
      },
      "text/plain": [
       "Converting SEGY:   0%|          | 0.00/11.9k [00:00<?, ? traces/s]"
      ]
     },
     "metadata": {},
     "output_type": "display_data"
    },
    {
     "data": {
      "application/vnd.jupyter.widget-view+json": {
       "model_id": "3d45afc165bb4ce89a5d0cbee251fbd1",
       "version_major": 2,
       "version_minor": 0
      },
      "text/plain": [
       "  0%|          | 0.00/11.9k [00:00<?, ? traces/s]"
      ]
     },
     "metadata": {},
     "output_type": "display_data"
    },
    {
     "name": "stdout",
     "output_type": "stream",
     "text": [
      "Loading as 3D\n",
      "Fast direction is TRACE_SEQUENCE_FILE\n"
     ]
    },
    {
     "data": {
      "application/vnd.jupyter.widget-view+json": {
       "model_id": "cd539b4883d845e4a282c4d5db5fbe6c",
       "version_major": 2,
       "version_minor": 0
      },
      "text/plain": [
       "Converting SEGY:   0%|          | 0.00/11.9k [00:00<?, ? traces/s]"
      ]
     },
     "metadata": {},
     "output_type": "display_data"
    },
    {
     "data": {
      "application/vnd.jupyter.widget-view+json": {
       "model_id": "bcf97cecbfcd464fbfb5a111595eabb3",
       "version_major": 2,
       "version_minor": 0
      },
      "text/plain": [
       "  0%|          | 0.00/11.9k [00:00<?, ? traces/s]"
      ]
     },
     "metadata": {},
     "output_type": "display_data"
    },
    {
     "name": "stdout",
     "output_type": "stream",
     "text": [
      "Loading as 3D\n",
      "Fast direction is TRACE_SEQUENCE_FILE\n"
     ]
    },
    {
     "data": {
      "application/vnd.jupyter.widget-view+json": {
       "model_id": "f51dd88a1c20492191868567b295b3dc",
       "version_major": 2,
       "version_minor": 0
      },
      "text/plain": [
       "Converting SEGY:   0%|          | 0.00/11.9k [00:00<?, ? traces/s]"
      ]
     },
     "metadata": {},
     "output_type": "display_data"
    },
    {
     "data": {
      "application/vnd.jupyter.widget-view+json": {
       "model_id": "7057a3c8ef8d4023b9c41fb395b610a9",
       "version_major": 2,
       "version_minor": 0
      },
      "text/plain": [
       "  0%|          | 0.00/11.9k [00:00<?, ? traces/s]"
      ]
     },
     "metadata": {},
     "output_type": "display_data"
    },
    {
     "name": "stdout",
     "output_type": "stream",
     "text": [
      "Loading as 3D\n",
      "Fast direction is TRACE_SEQUENCE_FILE\n"
     ]
    },
    {
     "data": {
      "application/vnd.jupyter.widget-view+json": {
       "model_id": "438a49a077ad450699dae99adf618a40",
       "version_major": 2,
       "version_minor": 0
      },
      "text/plain": [
       "Converting SEGY:   0%|          | 0.00/11.9k [00:00<?, ? traces/s]"
      ]
     },
     "metadata": {},
     "output_type": "display_data"
    },
    {
     "data": {
      "application/vnd.jupyter.widget-view+json": {
       "model_id": "89891fe985d140ec8e5d7f863d78dfce",
       "version_major": 2,
       "version_minor": 0
      },
      "text/plain": [
       "  0%|          | 0.00/11.9k [00:00<?, ? traces/s]"
      ]
     },
     "metadata": {},
     "output_type": "display_data"
    },
    {
     "name": "stdout",
     "output_type": "stream",
     "text": [
      "Loading as 3D\n",
      "Fast direction is TRACE_SEQUENCE_FILE\n"
     ]
    },
    {
     "data": {
      "application/vnd.jupyter.widget-view+json": {
       "model_id": "37ca9e81116a48c0a0cfbe95ab084f06",
       "version_major": 2,
       "version_minor": 0
      },
      "text/plain": [
       "Converting SEGY:   0%|          | 0.00/11.9k [00:00<?, ? traces/s]"
      ]
     },
     "metadata": {},
     "output_type": "display_data"
    },
    {
     "data": {
      "application/vnd.jupyter.widget-view+json": {
       "model_id": "982ec664160c4c80be1069ef3c2cc4c3",
       "version_major": 2,
       "version_minor": 0
      },
      "text/plain": [
       "  0%|          | 0.00/11.9k [00:00<?, ? traces/s]"
      ]
     },
     "metadata": {},
     "output_type": "display_data"
    },
    {
     "name": "stdout",
     "output_type": "stream",
     "text": [
      "Loading as 3D\n",
      "Fast direction is TRACE_SEQUENCE_FILE\n"
     ]
    },
    {
     "data": {
      "application/vnd.jupyter.widget-view+json": {
       "model_id": "04e0efead36047538a2c5510184aa1e4",
       "version_major": 2,
       "version_minor": 0
      },
      "text/plain": [
       "Converting SEGY:   0%|          | 0.00/11.9k [00:00<?, ? traces/s]"
      ]
     },
     "metadata": {},
     "output_type": "display_data"
    },
    {
     "data": {
      "application/vnd.jupyter.widget-view+json": {
       "model_id": "7b43e16943884dbaa950c1cf5396453d",
       "version_major": 2,
       "version_minor": 0
      },
      "text/plain": [
       "  0%|          | 0.00/11.9k [00:00<?, ? traces/s]"
      ]
     },
     "metadata": {},
     "output_type": "display_data"
    },
    {
     "name": "stdout",
     "output_type": "stream",
     "text": [
      "Loading as 3D\n",
      "Fast direction is TRACE_SEQUENCE_FILE\n"
     ]
    },
    {
     "data": {
      "application/vnd.jupyter.widget-view+json": {
       "model_id": "e013cb15bc08487dbc05500145650e89",
       "version_major": 2,
       "version_minor": 0
      },
      "text/plain": [
       "Converting SEGY:   0%|          | 0.00/11.9k [00:00<?, ? traces/s]"
      ]
     },
     "metadata": {},
     "output_type": "display_data"
    },
    {
     "data": {
      "application/vnd.jupyter.widget-view+json": {
       "model_id": "16c38e05d1c84be483fa5f4bd7b27502",
       "version_major": 2,
       "version_minor": 0
      },
      "text/plain": [
       "  0%|          | 0.00/11.9k [00:00<?, ? traces/s]"
      ]
     },
     "metadata": {},
     "output_type": "display_data"
    },
    {
     "name": "stdout",
     "output_type": "stream",
     "text": [
      "Loading as 3D\n",
      "Fast direction is TRACE_SEQUENCE_FILE\n"
     ]
    },
    {
     "data": {
      "application/vnd.jupyter.widget-view+json": {
       "model_id": "ae6f5773ebf54b17806b5cc12e53df6d",
       "version_major": 2,
       "version_minor": 0
      },
      "text/plain": [
       "Converting SEGY:   0%|          | 0.00/11.9k [00:00<?, ? traces/s]"
      ]
     },
     "metadata": {},
     "output_type": "display_data"
    },
    {
     "data": {
      "application/vnd.jupyter.widget-view+json": {
       "model_id": "323789de9fd941688ee1a562a637263c",
       "version_major": 2,
       "version_minor": 0
      },
      "text/plain": [
       "  0%|          | 0.00/11.9k [00:00<?, ? traces/s]"
      ]
     },
     "metadata": {},
     "output_type": "display_data"
    },
    {
     "name": "stdout",
     "output_type": "stream",
     "text": [
      "Loading as 3D\n",
      "Fast direction is TRACE_SEQUENCE_FILE\n"
     ]
    },
    {
     "data": {
      "application/vnd.jupyter.widget-view+json": {
       "model_id": "83ec1fe850d2451b9b4e4f17db4a9126",
       "version_major": 2,
       "version_minor": 0
      },
      "text/plain": [
       "Converting SEGY:   0%|          | 0.00/11.9k [00:00<?, ? traces/s]"
      ]
     },
     "metadata": {},
     "output_type": "display_data"
    },
    {
     "data": {
      "application/vnd.jupyter.widget-view+json": {
       "model_id": "c45dc6060a04452f97f0eb16682ce788",
       "version_major": 2,
       "version_minor": 0
      },
      "text/plain": [
       "  0%|          | 0.00/11.9k [00:00<?, ? traces/s]"
      ]
     },
     "metadata": {},
     "output_type": "display_data"
    },
    {
     "name": "stdout",
     "output_type": "stream",
     "text": [
      "Loading as 3D\n",
      "Fast direction is TRACE_SEQUENCE_FILE\n"
     ]
    },
    {
     "data": {
      "application/vnd.jupyter.widget-view+json": {
       "model_id": "4b5ab385e9034b8188ee9a9a381ea730",
       "version_major": 2,
       "version_minor": 0
      },
      "text/plain": [
       "Converting SEGY:   0%|          | 0.00/11.9k [00:00<?, ? traces/s]"
      ]
     },
     "metadata": {},
     "output_type": "display_data"
    },
    {
     "data": {
      "application/vnd.jupyter.widget-view+json": {
       "model_id": "5f34e1a40fa24c1e88154756f9adda2e",
       "version_major": 2,
       "version_minor": 0
      },
      "text/plain": [
       "  0%|          | 0.00/11.9k [00:00<?, ? traces/s]"
      ]
     },
     "metadata": {},
     "output_type": "display_data"
    },
    {
     "name": "stdout",
     "output_type": "stream",
     "text": [
      "Loading as 3D\n",
      "Fast direction is TRACE_SEQUENCE_FILE\n"
     ]
    },
    {
     "data": {
      "application/vnd.jupyter.widget-view+json": {
       "model_id": "7cd76732a43642969467c72710011f27",
       "version_major": 2,
       "version_minor": 0
      },
      "text/plain": [
       "Converting SEGY:   0%|          | 0.00/11.9k [00:00<?, ? traces/s]"
      ]
     },
     "metadata": {},
     "output_type": "display_data"
    },
    {
     "data": {
      "application/vnd.jupyter.widget-view+json": {
       "model_id": "0d3e812504e441afbf760dbd72e4beb6",
       "version_major": 2,
       "version_minor": 0
      },
      "text/plain": [
       "  0%|          | 0.00/11.9k [00:00<?, ? traces/s]"
      ]
     },
     "metadata": {},
     "output_type": "display_data"
    },
    {
     "name": "stdout",
     "output_type": "stream",
     "text": [
      "Loading as 3D\n",
      "Fast direction is TRACE_SEQUENCE_FILE\n"
     ]
    },
    {
     "data": {
      "application/vnd.jupyter.widget-view+json": {
       "model_id": "04b38a8dac2646ca9fa3455e15b952a7",
       "version_major": 2,
       "version_minor": 0
      },
      "text/plain": [
       "Converting SEGY:   0%|          | 0.00/11.9k [00:00<?, ? traces/s]"
      ]
     },
     "metadata": {},
     "output_type": "display_data"
    },
    {
     "data": {
      "application/vnd.jupyter.widget-view+json": {
       "model_id": "65a139590a7c4abd883187f4268b1a70",
       "version_major": 2,
       "version_minor": 0
      },
      "text/plain": [
       "  0%|          | 0.00/11.9k [00:00<?, ? traces/s]"
      ]
     },
     "metadata": {},
     "output_type": "display_data"
    },
    {
     "name": "stdout",
     "output_type": "stream",
     "text": [
      "Loading as 3D\n",
      "Fast direction is TRACE_SEQUENCE_FILE\n"
     ]
    },
    {
     "data": {
      "application/vnd.jupyter.widget-view+json": {
       "model_id": "09ac8227b5224a8d806bc440cdfc3560",
       "version_major": 2,
       "version_minor": 0
      },
      "text/plain": [
       "Converting SEGY:   0%|          | 0.00/11.9k [00:00<?, ? traces/s]"
      ]
     },
     "metadata": {},
     "output_type": "display_data"
    },
    {
     "data": {
      "application/vnd.jupyter.widget-view+json": {
       "model_id": "2481c235e5c440f78ba64e860fce9cc1",
       "version_major": 2,
       "version_minor": 0
      },
      "text/plain": [
       "  0%|          | 0.00/11.9k [00:00<?, ? traces/s]"
      ]
     },
     "metadata": {},
     "output_type": "display_data"
    },
    {
     "name": "stdout",
     "output_type": "stream",
     "text": [
      "Loading as 3D\n",
      "Fast direction is TRACE_SEQUENCE_FILE\n"
     ]
    },
    {
     "data": {
      "application/vnd.jupyter.widget-view+json": {
       "model_id": "fd86853c17374be39826a2beb3b6cd3f",
       "version_major": 2,
       "version_minor": 0
      },
      "text/plain": [
       "Converting SEGY:   0%|          | 0.00/11.9k [00:00<?, ? traces/s]"
      ]
     },
     "metadata": {},
     "output_type": "display_data"
    },
    {
     "data": {
      "application/vnd.jupyter.widget-view+json": {
       "model_id": "4ebc42ec40e442c1871739d20d9268f0",
       "version_major": 2,
       "version_minor": 0
      },
      "text/plain": [
       "  0%|          | 0.00/11.9k [00:00<?, ? traces/s]"
      ]
     },
     "metadata": {},
     "output_type": "display_data"
    },
    {
     "name": "stdout",
     "output_type": "stream",
     "text": [
      "Loading as 3D\n",
      "Fast direction is TRACE_SEQUENCE_FILE\n"
     ]
    },
    {
     "data": {
      "application/vnd.jupyter.widget-view+json": {
       "model_id": "1e396d0f28594c86a864e9c6296edfa0",
       "version_major": 2,
       "version_minor": 0
      },
      "text/plain": [
       "Converting SEGY:   0%|          | 0.00/11.9k [00:00<?, ? traces/s]"
      ]
     },
     "metadata": {},
     "output_type": "display_data"
    },
    {
     "data": {
      "application/vnd.jupyter.widget-view+json": {
       "model_id": "4938eef357204a27a42fa3ec3f8833e1",
       "version_major": 2,
       "version_minor": 0
      },
      "text/plain": [
       "  0%|          | 0.00/11.9k [00:00<?, ? traces/s]"
      ]
     },
     "metadata": {},
     "output_type": "display_data"
    },
    {
     "name": "stdout",
     "output_type": "stream",
     "text": [
      "Loading as 3D\n",
      "Fast direction is TRACE_SEQUENCE_FILE\n"
     ]
    },
    {
     "data": {
      "application/vnd.jupyter.widget-view+json": {
       "model_id": "fd2c34c5d5c84c7fbb1a094fedff22d3",
       "version_major": 2,
       "version_minor": 0
      },
      "text/plain": [
       "Converting SEGY:   0%|          | 0.00/11.9k [00:00<?, ? traces/s]"
      ]
     },
     "metadata": {},
     "output_type": "display_data"
    },
    {
     "data": {
      "application/vnd.jupyter.widget-view+json": {
       "model_id": "a54b6361f7874a13883f8fab6d1e792e",
       "version_major": 2,
       "version_minor": 0
      },
      "text/plain": [
       "  0%|          | 0.00/11.9k [00:00<?, ? traces/s]"
      ]
     },
     "metadata": {},
     "output_type": "display_data"
    },
    {
     "name": "stdout",
     "output_type": "stream",
     "text": [
      "Loading as 3D\n",
      "Fast direction is TRACE_SEQUENCE_FILE\n"
     ]
    },
    {
     "data": {
      "application/vnd.jupyter.widget-view+json": {
       "model_id": "2413d67cc2134e5ca5e9cf3c03649c20",
       "version_major": 2,
       "version_minor": 0
      },
      "text/plain": [
       "Converting SEGY:   0%|          | 0.00/11.9k [00:00<?, ? traces/s]"
      ]
     },
     "metadata": {},
     "output_type": "display_data"
    },
    {
     "data": {
      "application/vnd.jupyter.widget-view+json": {
       "model_id": "f59a517fce7242f7aa576368e2342623",
       "version_major": 2,
       "version_minor": 0
      },
      "text/plain": [
       "  0%|          | 0.00/11.9k [00:00<?, ? traces/s]"
      ]
     },
     "metadata": {},
     "output_type": "display_data"
    },
    {
     "name": "stdout",
     "output_type": "stream",
     "text": [
      "Loading as 3D\n",
      "Fast direction is TRACE_SEQUENCE_FILE\n"
     ]
    },
    {
     "data": {
      "application/vnd.jupyter.widget-view+json": {
       "model_id": "d68969bab4314b80ae5a5558fc4b376e",
       "version_major": 2,
       "version_minor": 0
      },
      "text/plain": [
       "Converting SEGY:   0%|          | 0.00/11.9k [00:00<?, ? traces/s]"
      ]
     },
     "metadata": {},
     "output_type": "display_data"
    },
    {
     "data": {
      "application/vnd.jupyter.widget-view+json": {
       "model_id": "7cd56a76efcd4c0eb52327f75bd04961",
       "version_major": 2,
       "version_minor": 0
      },
      "text/plain": [
       "  0%|          | 0.00/11.9k [00:00<?, ? traces/s]"
      ]
     },
     "metadata": {},
     "output_type": "display_data"
    },
    {
     "name": "stdout",
     "output_type": "stream",
     "text": [
      "Loading as 3D\n",
      "Fast direction is TRACE_SEQUENCE_FILE\n"
     ]
    },
    {
     "data": {
      "application/vnd.jupyter.widget-view+json": {
       "model_id": "aa9a0c6261a64bbe9de0b554c2f52761",
       "version_major": 2,
       "version_minor": 0
      },
      "text/plain": [
       "Converting SEGY:   0%|          | 0.00/11.9k [00:00<?, ? traces/s]"
      ]
     },
     "metadata": {},
     "output_type": "display_data"
    },
    {
     "data": {
      "application/vnd.jupyter.widget-view+json": {
       "model_id": "a604bf6602c34d8ab5254de18e58654a",
       "version_major": 2,
       "version_minor": 0
      },
      "text/plain": [
       "  0%|          | 0.00/11.9k [00:00<?, ? traces/s]"
      ]
     },
     "metadata": {},
     "output_type": "display_data"
    },
    {
     "name": "stdout",
     "output_type": "stream",
     "text": [
      "Loading as 3D\n",
      "Fast direction is TRACE_SEQUENCE_FILE\n"
     ]
    },
    {
     "data": {
      "application/vnd.jupyter.widget-view+json": {
       "model_id": "e7e000e835e6400498df4c13a7d03fd5",
       "version_major": 2,
       "version_minor": 0
      },
      "text/plain": [
       "Converting SEGY:   0%|          | 0.00/11.9k [00:00<?, ? traces/s]"
      ]
     },
     "metadata": {},
     "output_type": "display_data"
    },
    {
     "data": {
      "application/vnd.jupyter.widget-view+json": {
       "model_id": "4be7b79d97374127805858f1c43383e5",
       "version_major": 2,
       "version_minor": 0
      },
      "text/plain": [
       "  0%|          | 0.00/11.9k [00:00<?, ? traces/s]"
      ]
     },
     "metadata": {},
     "output_type": "display_data"
    },
    {
     "name": "stdout",
     "output_type": "stream",
     "text": [
      "Loading as 3D\n",
      "Fast direction is TRACE_SEQUENCE_FILE\n"
     ]
    },
    {
     "data": {
      "application/vnd.jupyter.widget-view+json": {
       "model_id": "c1098441b77549c99d3ea852fc2926c2",
       "version_major": 2,
       "version_minor": 0
      },
      "text/plain": [
       "Converting SEGY:   0%|          | 0.00/11.9k [00:00<?, ? traces/s]"
      ]
     },
     "metadata": {},
     "output_type": "display_data"
    },
    {
     "data": {
      "application/vnd.jupyter.widget-view+json": {
       "model_id": "5ce8ac91b0314aada1f40e94f77969e8",
       "version_major": 2,
       "version_minor": 0
      },
      "text/plain": [
       "  0%|          | 0.00/11.9k [00:00<?, ? traces/s]"
      ]
     },
     "metadata": {},
     "output_type": "display_data"
    },
    {
     "name": "stdout",
     "output_type": "stream",
     "text": [
      "Loading as 3D\n",
      "Fast direction is TRACE_SEQUENCE_FILE\n"
     ]
    },
    {
     "data": {
      "application/vnd.jupyter.widget-view+json": {
       "model_id": "f3696934837544c5952da2a02071138b",
       "version_major": 2,
       "version_minor": 0
      },
      "text/plain": [
       "Converting SEGY:   0%|          | 0.00/11.9k [00:00<?, ? traces/s]"
      ]
     },
     "metadata": {},
     "output_type": "display_data"
    },
    {
     "data": {
      "application/vnd.jupyter.widget-view+json": {
       "model_id": "93688ae9081a4efcb3337cc3785cc323",
       "version_major": 2,
       "version_minor": 0
      },
      "text/plain": [
       "  0%|          | 0.00/11.9k [00:00<?, ? traces/s]"
      ]
     },
     "metadata": {},
     "output_type": "display_data"
    },
    {
     "name": "stdout",
     "output_type": "stream",
     "text": [
      "Loading as 3D\n",
      "Fast direction is TRACE_SEQUENCE_FILE\n"
     ]
    },
    {
     "data": {
      "application/vnd.jupyter.widget-view+json": {
       "model_id": "fa4bb3d90df4490baa39fd74e0bc70a9",
       "version_major": 2,
       "version_minor": 0
      },
      "text/plain": [
       "Converting SEGY:   0%|          | 0.00/11.9k [00:00<?, ? traces/s]"
      ]
     },
     "metadata": {},
     "output_type": "display_data"
    },
    {
     "data": {
      "application/vnd.jupyter.widget-view+json": {
       "model_id": "6815eb1eda3941b994fa78736ea32ce7",
       "version_major": 2,
       "version_minor": 0
      },
      "text/plain": [
       "  0%|          | 0.00/11.9k [00:00<?, ? traces/s]"
      ]
     },
     "metadata": {},
     "output_type": "display_data"
    },
    {
     "name": "stdout",
     "output_type": "stream",
     "text": [
      "Loading as 3D\n",
      "Fast direction is TRACE_SEQUENCE_FILE\n"
     ]
    },
    {
     "data": {
      "application/vnd.jupyter.widget-view+json": {
       "model_id": "3f822551da9d40cfb05c258de02a5f85",
       "version_major": 2,
       "version_minor": 0
      },
      "text/plain": [
       "Converting SEGY:   0%|          | 0.00/11.9k [00:00<?, ? traces/s]"
      ]
     },
     "metadata": {},
     "output_type": "display_data"
    },
    {
     "data": {
      "application/vnd.jupyter.widget-view+json": {
       "model_id": "99a0bc96906847f2bbbadde43b1db36c",
       "version_major": 2,
       "version_minor": 0
      },
      "text/plain": [
       "  0%|          | 0.00/11.9k [00:00<?, ? traces/s]"
      ]
     },
     "metadata": {},
     "output_type": "display_data"
    },
    {
     "name": "stdout",
     "output_type": "stream",
     "text": [
      "Loading as 3D\n",
      "Fast direction is TRACE_SEQUENCE_FILE\n"
     ]
    },
    {
     "data": {
      "application/vnd.jupyter.widget-view+json": {
       "model_id": "8c8777f002bc444dae2bf29bc7327449",
       "version_major": 2,
       "version_minor": 0
      },
      "text/plain": [
       "Converting SEGY:   0%|          | 0.00/11.9k [00:00<?, ? traces/s]"
      ]
     },
     "metadata": {},
     "output_type": "display_data"
    },
    {
     "data": {
      "application/vnd.jupyter.widget-view+json": {
       "model_id": "aacaf55b82f346549e71f29eb167b780",
       "version_major": 2,
       "version_minor": 0
      },
      "text/plain": [
       "  0%|          | 0.00/11.9k [00:00<?, ? traces/s]"
      ]
     },
     "metadata": {},
     "output_type": "display_data"
    },
    {
     "name": "stdout",
     "output_type": "stream",
     "text": [
      "Loading as 3D\n",
      "Fast direction is TRACE_SEQUENCE_FILE\n"
     ]
    },
    {
     "data": {
      "application/vnd.jupyter.widget-view+json": {
       "model_id": "30d3fed1c3514dc188fae39ad4d794a4",
       "version_major": 2,
       "version_minor": 0
      },
      "text/plain": [
       "Converting SEGY:   0%|          | 0.00/11.9k [00:00<?, ? traces/s]"
      ]
     },
     "metadata": {},
     "output_type": "display_data"
    },
    {
     "data": {
      "application/vnd.jupyter.widget-view+json": {
       "model_id": "8ecb9dd65bdb48899259d26807547d11",
       "version_major": 2,
       "version_minor": 0
      },
      "text/plain": [
       "  0%|          | 0.00/11.9k [00:00<?, ? traces/s]"
      ]
     },
     "metadata": {},
     "output_type": "display_data"
    },
    {
     "name": "stdout",
     "output_type": "stream",
     "text": [
      "Loading as 3D\n",
      "Fast direction is TRACE_SEQUENCE_FILE\n"
     ]
    },
    {
     "data": {
      "application/vnd.jupyter.widget-view+json": {
       "model_id": "209175b8974b4092b97367f35be2db7c",
       "version_major": 2,
       "version_minor": 0
      },
      "text/plain": [
       "Converting SEGY:   0%|          | 0.00/11.9k [00:00<?, ? traces/s]"
      ]
     },
     "metadata": {},
     "output_type": "display_data"
    },
    {
     "data": {
      "application/vnd.jupyter.widget-view+json": {
       "model_id": "9fcb2742dfa44d1aa73b1619a7ddcf0a",
       "version_major": 2,
       "version_minor": 0
      },
      "text/plain": [
       "  0%|          | 0.00/11.9k [00:00<?, ? traces/s]"
      ]
     },
     "metadata": {},
     "output_type": "display_data"
    },
    {
     "name": "stdout",
     "output_type": "stream",
     "text": [
      "Loading as 3D\n",
      "Fast direction is TRACE_SEQUENCE_FILE\n"
     ]
    },
    {
     "data": {
      "application/vnd.jupyter.widget-view+json": {
       "model_id": "663676d2a2394c569cd261c2b4f4d07c",
       "version_major": 2,
       "version_minor": 0
      },
      "text/plain": [
       "Converting SEGY:   0%|          | 0.00/11.9k [00:00<?, ? traces/s]"
      ]
     },
     "metadata": {},
     "output_type": "display_data"
    },
    {
     "data": {
      "application/vnd.jupyter.widget-view+json": {
       "model_id": "a5354c69a3c5480c9e7eace69d2d00e9",
       "version_major": 2,
       "version_minor": 0
      },
      "text/plain": [
       "  0%|          | 0.00/11.9k [00:00<?, ? traces/s]"
      ]
     },
     "metadata": {},
     "output_type": "display_data"
    },
    {
     "name": "stdout",
     "output_type": "stream",
     "text": [
      "Loading as 3D\n",
      "Fast direction is TRACE_SEQUENCE_FILE\n"
     ]
    },
    {
     "data": {
      "application/vnd.jupyter.widget-view+json": {
       "model_id": "aaad4c6a548343afa2578ce8d3070d59",
       "version_major": 2,
       "version_minor": 0
      },
      "text/plain": [
       "Converting SEGY:   0%|          | 0.00/11.9k [00:00<?, ? traces/s]"
      ]
     },
     "metadata": {},
     "output_type": "display_data"
    },
    {
     "data": {
      "application/vnd.jupyter.widget-view+json": {
       "model_id": "d61f9c54d3f046ac89fbc7b7cd1752e3",
       "version_major": 2,
       "version_minor": 0
      },
      "text/plain": [
       "  0%|          | 0.00/11.9k [00:00<?, ? traces/s]"
      ]
     },
     "metadata": {},
     "output_type": "display_data"
    },
    {
     "name": "stdout",
     "output_type": "stream",
     "text": [
      "Loading as 3D\n",
      "Fast direction is TRACE_SEQUENCE_FILE\n"
     ]
    },
    {
     "data": {
      "application/vnd.jupyter.widget-view+json": {
       "model_id": "d9d17e361f214e22b67c8cf4aa0f2d4b",
       "version_major": 2,
       "version_minor": 0
      },
      "text/plain": [
       "Converting SEGY:   0%|          | 0.00/11.9k [00:00<?, ? traces/s]"
      ]
     },
     "metadata": {},
     "output_type": "display_data"
    },
    {
     "data": {
      "application/vnd.jupyter.widget-view+json": {
       "model_id": "f3568d4770c34f88bf2d4b6607644997",
       "version_major": 2,
       "version_minor": 0
      },
      "text/plain": [
       "  0%|          | 0.00/11.9k [00:00<?, ? traces/s]"
      ]
     },
     "metadata": {},
     "output_type": "display_data"
    },
    {
     "name": "stdout",
     "output_type": "stream",
     "text": [
      "Loading as 3D\n",
      "Fast direction is TRACE_SEQUENCE_FILE\n"
     ]
    },
    {
     "data": {
      "application/vnd.jupyter.widget-view+json": {
       "model_id": "1bd046adb23c45c1b2d90cda58acffcf",
       "version_major": 2,
       "version_minor": 0
      },
      "text/plain": [
       "Converting SEGY:   0%|          | 0.00/11.9k [00:00<?, ? traces/s]"
      ]
     },
     "metadata": {},
     "output_type": "display_data"
    },
    {
     "data": {
      "application/vnd.jupyter.widget-view+json": {
       "model_id": "52816b1a4d7d489f87b4f1c6a88755ac",
       "version_major": 2,
       "version_minor": 0
      },
      "text/plain": [
       "  0%|          | 0.00/11.9k [00:00<?, ? traces/s]"
      ]
     },
     "metadata": {},
     "output_type": "display_data"
    },
    {
     "name": "stdout",
     "output_type": "stream",
     "text": [
      "Loading as 3D\n",
      "Fast direction is TRACE_SEQUENCE_FILE\n"
     ]
    },
    {
     "data": {
      "application/vnd.jupyter.widget-view+json": {
       "model_id": "1e1abb863a2446c6a99e92746633d406",
       "version_major": 2,
       "version_minor": 0
      },
      "text/plain": [
       "Converting SEGY:   0%|          | 0.00/11.9k [00:00<?, ? traces/s]"
      ]
     },
     "metadata": {},
     "output_type": "display_data"
    },
    {
     "data": {
      "application/vnd.jupyter.widget-view+json": {
       "model_id": "4a4b262063dd4f6e9082c23e5f856ea8",
       "version_major": 2,
       "version_minor": 0
      },
      "text/plain": [
       "  0%|          | 0.00/11.9k [00:00<?, ? traces/s]"
      ]
     },
     "metadata": {},
     "output_type": "display_data"
    },
    {
     "name": "stdout",
     "output_type": "stream",
     "text": [
      "Loading as 3D\n",
      "Fast direction is TRACE_SEQUENCE_FILE\n"
     ]
    },
    {
     "data": {
      "application/vnd.jupyter.widget-view+json": {
       "model_id": "1119b859582b45068cb16c2e53907d3d",
       "version_major": 2,
       "version_minor": 0
      },
      "text/plain": [
       "Converting SEGY:   0%|          | 0.00/11.9k [00:00<?, ? traces/s]"
      ]
     },
     "metadata": {},
     "output_type": "display_data"
    },
    {
     "data": {
      "application/vnd.jupyter.widget-view+json": {
       "model_id": "8b763a107dd948abb8e9258812d04573",
       "version_major": 2,
       "version_minor": 0
      },
      "text/plain": [
       "  0%|          | 0.00/11.9k [00:00<?, ? traces/s]"
      ]
     },
     "metadata": {},
     "output_type": "display_data"
    },
    {
     "name": "stdout",
     "output_type": "stream",
     "text": [
      "Loading as 3D\n",
      "Fast direction is TRACE_SEQUENCE_FILE\n"
     ]
    },
    {
     "data": {
      "application/vnd.jupyter.widget-view+json": {
       "model_id": "c8caac0609b54630baa8815ca76b1653",
       "version_major": 2,
       "version_minor": 0
      },
      "text/plain": [
       "Converting SEGY:   0%|          | 0.00/11.9k [00:00<?, ? traces/s]"
      ]
     },
     "metadata": {},
     "output_type": "display_data"
    },
    {
     "data": {
      "application/vnd.jupyter.widget-view+json": {
       "model_id": "5f48927ab68e436496c2df4a2eb253c9",
       "version_major": 2,
       "version_minor": 0
      },
      "text/plain": [
       "  0%|          | 0.00/11.9k [00:00<?, ? traces/s]"
      ]
     },
     "metadata": {},
     "output_type": "display_data"
    },
    {
     "name": "stdout",
     "output_type": "stream",
     "text": [
      "Loading as 3D\n",
      "Fast direction is TRACE_SEQUENCE_FILE\n"
     ]
    },
    {
     "data": {
      "application/vnd.jupyter.widget-view+json": {
       "model_id": "7a853848629744c1a6b8ab3fe0ac6452",
       "version_major": 2,
       "version_minor": 0
      },
      "text/plain": [
       "Converting SEGY:   0%|          | 0.00/11.9k [00:00<?, ? traces/s]"
      ]
     },
     "metadata": {},
     "output_type": "display_data"
    }
   ],
   "source": [
    "for cube in cubes:\n",
    "    for name, line in zip(names, lines):\n",
    "        # print(cube, line)\n",
    "        volve_3d = segy_loader(cube, **well_known_byte_locs(\"petrel_3d\"))\n",
    "        line_A = volve_3d.seis.interp_line(line[0], line[1], bin_spacing_hint=10)\n",
    "        line_A_data = line_A.to_array().squeeze().T\n",
    "        n_samples, n_traces = line_A_data.shape\n",
    "        x_coords = line_A.cdp_x\n",
    "        y_coords = line_A.cdp_y\n",
    "        twt = line_A.twt\n",
    "        CDP = line_A.cdp\n",
    "        \n",
    "        X = np.repeat(x_coords, n_samples) \n",
    "        Y = np.repeat(y_coords, n_samples) \n",
    "        Z = np.tile(twt, n_traces) \n",
    "        CDP = np.repeat(CDP, n_samples) \n",
    "        \n",
    "        Amplitude = line_A_data.to_numpy().reshape(-1)\n",
    "        \n",
    "        \n",
    "        df = pd.DataFrame({\n",
    "            'X': X,\n",
    "            'Y': Y,\n",
    "            'Z': Z,\n",
    "            'Amplitude': Amplitude,\n",
    "            'CDP': CDP\n",
    "        })\n",
    "        \n",
    "        df.dropna(subset=['X', 'Y'], inplace=True)\n",
    "        df.fillna(0, inplace=True)\n",
    "        \n",
    "        prefix = cube.split('depth_')[-1][:-4]\n",
    "        # print(df.head())\n",
    "        # df.sort_values(by = ['X', 'Z'], inplace = True)\n",
    "        df.to_csv(f'C:\\\\Users\\\\Alina\\\\Desktop\\\\{prefix}_{name}.csv', index=False)\n"
   ]
  },
  {
   "cell_type": "code",
   "execution_count": 103,
   "id": "db9a9ca4-d1b4-45bf-a851-0ac2a77eb333",
   "metadata": {},
   "outputs": [
    {
     "data": {
      "text/plain": [
       "<matplotlib.legend.Legend at 0x20adf2c5010>"
      ]
     },
     "execution_count": 103,
     "metadata": {},
     "output_type": "execute_result"
    },
    {
     "data": {
      "image/png": "[encoded data removed]",
      "text/plain": [
       "<Figure size 640x480 with 1 Axes>"
      ]
     },
     "metadata": {},
     "output_type": "display_data"
    }
   ],
   "source": [
    "ax = volve_3d.seis.plot_bounds()\n",
    "ax.plot(arb_line_A[0], arb_line_A[1], \".-\", label=\"Arb Line A\")\n",
    "# ax.plot(arb_line_B[0], arb_line_B[1], \".-\", label=\"Arb Line B\")\n",
    "ax.legend()"
   ]
  },
  {
   "cell_type": "code",
   "execution_count": 104,
   "id": "59f20b1f-105e-434c-9d8b-52e160dcb072",
   "metadata": {},
   "outputs": [
    {
     "name": "stdout",
     "output_type": "stream",
     "text": [
      "That took 0.27717041969299316 seconds\n"
     ]
    }
   ],
   "source": [
    "from time import time\n",
    "\n",
    "tic = time()\n",
    "line_A = volve_3d.seis.interp_line(arb_line_A[0], arb_line_A[1], bin_spacing_hint=10)\n",
    "toc = time()\n",
    "print(f\"That took {toc-tic} seconds\")"
   ]
  },
  {
   "cell_type": "code",
   "execution_count": 105,
   "id": "e4033162-0f76-4a10-ba8b-fb48eb3ee6a2",
   "metadata": {},
   "outputs": [
    {
     "data": {
      "text/plain": [
       "<matplotlib.image.AxesImage at 0x20ad5563090>"
      ]
     },
     "execution_count": 105,
     "metadata": {},
     "output_type": "execute_result"
    },
    {
     "data": {
      "image/png": "[encoded data removed]",
      "text/plain": [
       "<Figure size 800x800 with 1 Axes>"
      ]
     },
     "metadata": {},
     "output_type": "display_data"
    }
   ],
   "source": [
    "plt.figure(figsize=(8, 8))\n",
    "plt.imshow(line_A.to_array().squeeze().T, aspect=\"auto\", cmap=\"RdBu\", vmin=-10, vmax=10)"
   ]
  },
  {
   "cell_type": "code",
   "execution_count": 106,
   "id": "5bb532d4-e742-4b85-a367-63da98a5730f",
   "metadata": {},
   "outputs": [
    {
     "data": {
      "text/plain": [
       "(3001, 159)"
      ]
     },
     "execution_count": 106,
     "metadata": {},
     "output_type": "execute_result"
    }
   ],
   "source": [
    "line_A.to_array().squeeze().T.shape\n"
   ]
  },
  {
   "cell_type": "code",
   "execution_count": 107,
   "id": "407c876f-25f8-4033-9b82-dcd3c8a4bd42",
   "metadata": {},
   "outputs": [
    {
     "data": {
      "text/html": [
       "<div><svg style=\"position: absolute; width: 0; height: 0; overflow: hidden\">\n",
       "<defs>\n",
       "<symbol id=\"icon-database\" viewBox=\"0 0 32 32\">\n",
       "<path d=\"M16 0c-8.837 0-16 2.239-16 5v4c0 2.761 7.163 5 16 5s16-2.239 16-5v-4c0-2.761-7.163-5-16-5z\"></path>\n",
       "<path d=\"M16 17c-8.837 0-16-2.239-16-5v6c0 2.761 7.163 5 16 5s16-2.239 16-5v-6c0 2.761-7.163 5-16 5z\"></path>\n",
       "<path d=\"M16 26c-8.837 0-16-2.239-16-5v6c0 2.761 7.163 5 16 5s16-2.239 16-5v-6c0 2.761-7.163 5-16 5z\"></path>\n",
       "</symbol>\n",
       "<symbol id=\"icon-file-text2\" viewBox=\"0 0 32 32\">\n",
       "<path d=\"M28.681 7.159c-0.694-0.947-1.662-2.053-2.724-3.116s-2.169-2.030-3.116-2.724c-1.612-1.182-2.393-1.319-2.841-1.319h-15.5c-1.378 0-2.5 1.121-2.5 2.5v27c0 1.378 1.122 2.5 2.5 2.5h23c1.378 0 2.5-1.122 2.5-2.5v-19.5c0-0.448-0.137-1.23-1.319-2.841zM24.543 5.457c0.959 0.959 1.712 1.825 2.268 2.543h-4.811v-4.811c0.718 0.556 1.584 1.309 2.543 2.268zM28 29.5c0 0.271-0.229 0.5-0.5 0.5h-23c-0.271 0-0.5-0.229-0.5-0.5v-27c0-0.271 0.229-0.5 0.5-0.5 0 0 15.499-0 15.5 0v7c0 0.552 0.448 1 1 1h7v19.5z\"></path>\n",
       "<path d=\"M23 26h-14c-0.552 0-1-0.448-1-1s0.448-1 1-1h14c0.552 0 1 0.448 1 1s-0.448 1-1 1z\"></path>\n",
       "<path d=\"M23 22h-14c-0.552 0-1-0.448-1-1s0.448-1 1-1h14c0.552 0 1 0.448 1 1s-0.448 1-1 1z\"></path>\n",
       "<path d=\"M23 18h-14c-0.552 0-1-0.448-1-1s0.448-1 1-1h14c0.552 0 1 0.448 1 1s-0.448 1-1 1z\"></path>\n",
       "</symbol>\n",
       "</defs>\n",
       "</svg>\n",
       "<style>/* CSS stylesheet for displaying xarray objects in jupyterlab.\n",
       " *\n",
       " */\n",
       "\n",
       ":root {\n",
       "  --xr-font-color0: var(--jp-content-font-color0, rgba(0, 0, 0, 1));\n",
       "  --xr-font-color2: var(--jp-content-font-color2, rgba(0, 0, 0, 0.54));\n",
       "  --xr-font-color3: var(--jp-content-font-color3, rgba(0, 0, 0, 0.38));\n",
       "  --xr-border-color: var(--jp-border-color2, #e0e0e0);\n",
       "  --xr-disabled-color: var(--jp-layout-color3, #bdbdbd);\n",
       "  --xr-background-color: var(--jp-layout-color0, white);\n",
       "  --xr-background-color-row-even: var(--jp-layout-color1, white);\n",
       "  --xr-background-color-row-odd: var(--jp-layout-color2, #eeeeee);\n",
       "}\n",
       "\n",
       "html[theme=dark],\n",
       "body[data-theme=dark],\n",
       "body.vscode-dark {\n",
       "  --xr-font-color0: rgba(255, 255, 255, 1);\n",
       "  --xr-font-color2: rgba(255, 255, 255, 0.54);\n",
       "  --xr-font-color3: rgba(255, 255, 255, 0.38);\n",
       "  --xr-border-color: #1F1F1F;\n",
       "  --xr-disabled-color: #515151;\n",
       "  --xr-background-color: #111111;\n",
       "  --xr-background-color-row-even: #111111;\n",
       "  --xr-background-color-row-odd: #313131;\n",
       "}\n",
       "\n",
       ".xr-wrap {\n",
       "  display: block !important;\n",
       "  min-width: 300px;\n",
       "  max-width: 700px;\n",
       "}\n",
       "\n",
       ".xr-text-repr-fallback {\n",
       "  /* fallback to plain text repr when CSS is not injected (untrusted notebook) */\n",
       "  display: none;\n",
       "}\n",
       "\n",
       ".xr-header {\n",
       "  padding-top: 6px;\n",
       "  padding-bottom: 6px;\n",
       "  margin-bottom: 4px;\n",
       "  border-bottom: solid 1px var(--xr-border-color);\n",
       "}\n",
       "\n",
       ".xr-header > div,\n",
       ".xr-header > ul {\n",
       "  display: inline;\n",
       "  margin-top: 0;\n",
       "  margin-bottom: 0;\n",
       "}\n",
       "\n",
       ".xr-obj-type,\n",
       ".xr-array-name {\n",
       "  margin-left: 2px;\n",
       "  margin-right: 10px;\n",
       "}\n",
       "\n",
       ".xr-obj-type {\n",
       "  color: var(--xr-font-color2);\n",
       "}\n",
       "\n",
       ".xr-sections {\n",
       "  padding-left: 0 !important;\n",
       "  display: grid;\n",
       "  grid-template-columns: 150px auto auto 1fr 20px 20px;\n",
       "}\n",
       "\n",
       ".xr-section-item {\n",
       "  display: contents;\n",
       "}\n",
       "\n",
       ".xr-section-item input {\n",
       "  display: none;\n",
       "}\n",
       "\n",
       ".xr-section-item input + label {\n",
       "  color: var(--xr-disabled-color);\n",
       "}\n",
       "\n",
       ".xr-section-item input:enabled + label {\n",
       "  cursor: pointer;\n",
       "  color: var(--xr-font-color2);\n",
       "}\n",
       "\n",
       ".xr-section-item input:enabled + label:hover {\n",
       "  color: var(--xr-font-color0);\n",
       "}\n",
       "\n",
       ".xr-section-summary {\n",
       "  grid-column: 1;\n",
       "  color: var(--xr-font-color2);\n",
       "  font-weight: 500;\n",
       "}\n",
       "\n",
       ".xr-section-summary > span {\n",
       "  display: inline-block;\n",
       "  padding-left: 0.5em;\n",
       "}\n",
       "\n",
       ".xr-section-summary-in:disabled + label {\n",
       "  color: var(--xr-font-color2);\n",
       "}\n",
       "\n",
       ".xr-section-summary-in + label:before {\n",
       "  display: inline-block;\n",
       "  content: '►';\n",
       "  font-size: 11px;\n",
       "  width: 15px;\n",
       "  text-align: center;\n",
       "}\n",
       "\n",
       ".xr-section-summary-in:disabled + label:before {\n",
       "  color: var(--xr-disabled-color);\n",
       "}\n",
       "\n",
       ".xr-section-summary-in:checked + label:before {\n",
       "  content: '▼';\n",
       "}\n",
       "\n",
       ".xr-section-summary-in:checked + label > span {\n",
       "  display: none;\n",
       "}\n",
       "\n",
       ".xr-section-summary,\n",
       ".xr-section-inline-details {\n",
       "  padding-top: 4px;\n",
       "  padding-bottom: 4px;\n",
       "}\n",
       "\n",
       ".xr-section-inline-details {\n",
       "  grid-column: 2 / -1;\n",
       "}\n",
       "\n",
       ".xr-section-details {\n",
       "  display: none;\n",
       "  grid-column: 1 / -1;\n",
       "  margin-bottom: 5px;\n",
       "}\n",
       "\n",
       ".xr-section-summary-in:checked ~ .xr-section-details {\n",
       "  display: contents;\n",
       "}\n",
       "\n",
       ".xr-array-wrap {\n",
       "  grid-column: 1 / -1;\n",
       "  display: grid;\n",
       "  grid-template-columns: 20px auto;\n",
       "}\n",
       "\n",
       ".xr-array-wrap > label {\n",
       "  grid-column: 1;\n",
       "  vertical-align: top;\n",
       "}\n",
       "\n",
       ".xr-preview {\n",
       "  color: var(--xr-font-color3);\n",
       "}\n",
       "\n",
       ".xr-array-preview,\n",
       ".xr-array-data {\n",
       "  padding: 0 5px !important;\n",
       "  grid-column: 2;\n",
       "}\n",
       "\n",
       ".xr-array-data,\n",
       ".xr-array-in:checked ~ .xr-array-preview {\n",
       "  display: none;\n",
       "}\n",
       "\n",
       ".xr-array-in:checked ~ .xr-array-data,\n",
       ".xr-array-preview {\n",
       "  display: inline-block;\n",
       "}\n",
       "\n",
       ".xr-dim-list {\n",
       "  display: inline-block !important;\n",
       "  list-style: none;\n",
       "  padding: 0 !important;\n",
       "  margin: 0;\n",
       "}\n",
       "\n",
       ".xr-dim-list li {\n",
       "  display: inline-block;\n",
       "  padding: 0;\n",
       "  margin: 0;\n",
       "}\n",
       "\n",
       ".xr-dim-list:before {\n",
       "  content: '(';\n",
       "}\n",
       "\n",
       ".xr-dim-list:after {\n",
       "  content: ')';\n",
       "}\n",
       "\n",
       ".xr-dim-list li:not(:last-child):after {\n",
       "  content: ',';\n",
       "  padding-right: 5px;\n",
       "}\n",
       "\n",
       ".xr-has-index {\n",
       "  font-weight: bold;\n",
       "}\n",
       "\n",
       ".xr-var-list,\n",
       ".xr-var-item {\n",
       "  display: contents;\n",
       "}\n",
       "\n",
       ".xr-var-item > div,\n",
       ".xr-var-item label,\n",
       ".xr-var-item > .xr-var-name span {\n",
       "  background-color: var(--xr-background-color-row-even);\n",
       "  margin-bottom: 0;\n",
       "}\n",
       "\n",
       ".xr-var-item > .xr-var-name:hover span {\n",
       "  padding-right: 5px;\n",
       "}\n",
       "\n",
       ".xr-var-list > li:nth-child(odd) > div,\n",
       ".xr-var-list > li:nth-child(odd) > label,\n",
       ".xr-var-list > li:nth-child(odd) > .xr-var-name span {\n",
       "  background-color: var(--xr-background-color-row-odd);\n",
       "}\n",
       "\n",
       ".xr-var-name {\n",
       "  grid-column: 1;\n",
       "}\n",
       "\n",
       ".xr-var-dims {\n",
       "  grid-column: 2;\n",
       "}\n",
       "\n",
       ".xr-var-dtype {\n",
       "  grid-column: 3;\n",
       "  text-align: right;\n",
       "  color: var(--xr-font-color2);\n",
       "}\n",
       "\n",
       ".xr-var-preview {\n",
       "  grid-column: 4;\n",
       "}\n",
       "\n",
       ".xr-index-preview {\n",
       "  grid-column: 2 / 5;\n",
       "  color: var(--xr-font-color2);\n",
       "}\n",
       "\n",
       ".xr-var-name,\n",
       ".xr-var-dims,\n",
       ".xr-var-dtype,\n",
       ".xr-preview,\n",
       ".xr-attrs dt {\n",
       "  white-space: nowrap;\n",
       "  overflow: hidden;\n",
       "  text-overflow: ellipsis;\n",
       "  padding-right: 10px;\n",
       "}\n",
       "\n",
       ".xr-var-name:hover,\n",
       ".xr-var-dims:hover,\n",
       ".xr-var-dtype:hover,\n",
       ".xr-attrs dt:hover {\n",
       "  overflow: visible;\n",
       "  width: auto;\n",
       "  z-index: 1;\n",
       "}\n",
       "\n",
       ".xr-var-attrs,\n",
       ".xr-var-data,\n",
       ".xr-index-data {\n",
       "  display: none;\n",
       "  background-color: var(--xr-background-color) !important;\n",
       "  padding-bottom: 5px !important;\n",
       "}\n",
       "\n",
       ".xr-var-attrs-in:checked ~ .xr-var-attrs,\n",
       ".xr-var-data-in:checked ~ .xr-var-data,\n",
       ".xr-index-data-in:checked ~ .xr-index-data {\n",
       "  display: block;\n",
       "}\n",
       "\n",
       ".xr-var-data > table {\n",
       "  float: right;\n",
       "}\n",
       "\n",
       ".xr-var-name span,\n",
       ".xr-var-data,\n",
       ".xr-index-name div,\n",
       ".xr-index-data,\n",
       ".xr-attrs {\n",
       "  padding-left: 25px !important;\n",
       "}\n",
       "\n",
       ".xr-attrs,\n",
       ".xr-var-attrs,\n",
       ".xr-var-data,\n",
       ".xr-index-data {\n",
       "  grid-column: 1 / -1;\n",
       "}\n",
       "\n",
       "dl.xr-attrs {\n",
       "  padding: 0;\n",
       "  margin: 0;\n",
       "  display: grid;\n",
       "  grid-template-columns: 125px auto;\n",
       "}\n",
       "\n",
       ".xr-attrs dt,\n",
       ".xr-attrs dd {\n",
       "  padding: 0;\n",
       "  margin: 0;\n",
       "  float: left;\n",
       "  padding-right: 10px;\n",
       "  width: auto;\n",
       "}\n",
       "\n",
       ".xr-attrs dt {\n",
       "  font-weight: normal;\n",
       "  grid-column: 1;\n",
       "}\n",
       "\n",
       ".xr-attrs dt:hover span {\n",
       "  display: inline-block;\n",
       "  background: var(--xr-background-color);\n",
       "  padding-right: 10px;\n",
       "}\n",
       "\n",
       ".xr-attrs dd {\n",
       "  grid-column: 2;\n",
       "  white-space: pre-wrap;\n",
       "  word-break: break-all;\n",
       "}\n",
       "\n",
       ".xr-icon-database,\n",
       ".xr-icon-file-text2,\n",
       ".xr-no-icon {\n",
       "  display: inline-block;\n",
       "  vertical-align: middle;\n",
       "  width: 1em;\n",
       "  height: 1.5em !important;\n",
       "  stroke-width: 0;\n",
       "  stroke: currentColor;\n",
       "  fill: currentColor;\n",
       "}\n",
       "</style><pre class='xr-text-repr-fallback'>&lt;xarray.Dataset&gt;\n",
       "Dimensions:  (twt: 3001, cdp: 159)\n",
       "Coordinates:\n",
       "  * twt      (twt) float64 0.0 3.407 6.814 ... 1.021e+04 1.022e+04 1.022e+04\n",
       "    cdp_x    (cdp) float64 5.414e+05 5.414e+05 5.414e+05 ... 5.414e+05 5.414e+05\n",
       "    cdp_y    (cdp) float64 7.677e+06 7.677e+06 7.677e+06 ... 7.678e+06 7.678e+06\n",
       "    iline    (cdp) float64 47.69 47.65 47.61 47.58 ... 42.12 42.08 42.04 42.01\n",
       "    xline    (cdp) float64 41.19 41.59 41.99 42.39 ... 103.5 103.9 104.3 104.7\n",
       "  * cdp      (cdp) int32 0 1 2 3 4 5 6 7 8 ... 151 152 153 154 155 156 157 158\n",
       "Data variables:\n",
       "    data     (cdp, twt) float64 0.0 0.0 0.0 0.0 0.0 0.0 ... 0.0 0.0 0.0 0.0 0.0\n",
       "Attributes: (12/13)\n",
       "    ns:                  None\n",
       "    sample_rate:         3.407\n",
       "    text:                C 1 SEGY OUTPUT FROM Petrel 2017.4 Wednesday, Februa...\n",
       "    measurement_system:  m\n",
       "    d3_domain:           None\n",
       "    epsg:                None\n",
       "    ...                  ...\n",
       "    corner_points_xy:    ((540099.5, 7675762.5), (540414.56, 7679274.5), (542...\n",
       "    source_file:         depth_stack_astack_soft_bin25\n",
       "    srd:                 None\n",
       "    datatype:            None\n",
       "    percentiles:         [-0.4545141730853375, -0.4274036306998183, -0.059976...\n",
       "    coord_scalar:        -100.0</pre><div class='xr-wrap' style='display:none'><div class='xr-header'><div class='xr-obj-type'>xarray.Dataset</div></div><ul class='xr-sections'><li class='xr-section-item'><input id='section-c5511451-e775-4761-a0ac-de2a6ec7f129' class='xr-section-summary-in' type='checkbox' disabled ><label for='section-c5511451-e775-4761-a0ac-de2a6ec7f129' class='xr-section-summary'  title='Expand/collapse section'>Dimensions:</label><div class='xr-section-inline-details'><ul class='xr-dim-list'><li><span class='xr-has-index'>twt</span>: 3001</li><li><span class='xr-has-index'>cdp</span>: 159</li></ul></div><div class='xr-section-details'></div></li><li class='xr-section-item'><input id='section-26ebb444-29fb-4e4c-8e1f-8738fbe1bf47' class='xr-section-summary-in' type='checkbox'  checked><label for='section-26ebb444-29fb-4e4c-8e1f-8738fbe1bf47' class='xr-section-summary' >Coordinates: <span>(6)</span></label><div class='xr-section-inline-details'></div><div class='xr-section-details'><ul class='xr-var-list'><li class='xr-var-item'><div class='xr-var-name'><span class='xr-has-index'>twt</span></div><div class='xr-var-dims'>(twt)</div><div class='xr-var-dtype'>float64</div><div class='xr-var-preview xr-preview'>0.0 3.407 ... 1.022e+04 1.022e+04</div><input id='attrs-c46e4434-6bb5-4a12-9745-ed1d37793f25' class='xr-var-attrs-in' type='checkbox' disabled><label for='attrs-c46e4434-6bb5-4a12-9745-ed1d37793f25' title='Show/Hide attributes'><svg class='icon xr-icon-file-text2'><use xlink:href='#icon-file-text2'></use></svg></label><input id='data-733a74d8-c9fd-4393-a784-5cc8eec07530' class='xr-var-data-in' type='checkbox'><label for='data-733a74d8-c9fd-4393-a784-5cc8eec07530' title='Show/Hide data repr'><svg class='icon xr-icon-database'><use xlink:href='#icon-database'></use></svg></label><div class='xr-var-attrs'><dl class='xr-attrs'></dl></div><div class='xr-var-data'><pre>array([0.000000e+00, 3.407000e+00, 6.814000e+00, ..., 1.021419e+04,\n",
       "       1.021759e+04, 1.022100e+04])</pre></div></li><li class='xr-var-item'><div class='xr-var-name'><span>cdp_x</span></div><div class='xr-var-dims'>(cdp)</div><div class='xr-var-dtype'>float64</div><div class='xr-var-preview xr-preview'>5.414e+05 5.414e+05 ... 5.414e+05</div><input id='attrs-87a41fa9-d276-4655-830a-efdbde2ccfd1' class='xr-var-attrs-in' type='checkbox' disabled><label for='attrs-87a41fa9-d276-4655-830a-efdbde2ccfd1' title='Show/Hide attributes'><svg class='icon xr-icon-file-text2'><use xlink:href='#icon-file-text2'></use></svg></label><input id='data-03840485-f7ef-4e6f-9747-a4d72d26ff7c' class='xr-var-data-in' type='checkbox'><label for='data-03840485-f7ef-4e6f-9747-a4d72d26ff7c' title='Show/Hide data repr'><svg class='icon xr-icon-database'><use xlink:href='#icon-database'></use></svg></label><div class='xr-var-attrs'><dl class='xr-attrs'></dl></div><div class='xr-var-data'><pre>array([541352.29001065, 541352.29198945, 541352.29216167, 541352.28668389,\n",
       "       541352.28289782, 541352.28107086, 541352.27850825, 541352.27424705,\n",
       "       541352.28320304, 541352.29215904, 541352.30111503, 541352.31007103,\n",
       "       541352.31814119, 541352.30195819, 541352.2857752 , 541352.28339501,\n",
       "       541352.292351  , 541352.301307  , 541352.31026299, 541352.31921899,\n",
       "       541352.33022697, 541352.3414287 , 541352.35239217, 541352.35997691,\n",
       "       541352.36575507, 541352.37295496, 541352.38191095, 541352.388741  ,\n",
       "       541352.3807164 , 541352.37449839, 541352.37974426, 541352.39094599,\n",
       "       541352.40044682, 541352.39894874, 541352.39564409, 541352.40001491,\n",
       "       541352.4089709 , 541352.41356633, 541352.39738334, 541352.38120035,\n",
       "       541352.38229488, 541352.39125088, 541352.40020687, 541352.40916287,\n",
       "       541352.41811886, 541352.42707486, 541352.43603085, 541352.44498685,\n",
       "       541352.45394284, 541352.46289884, 541352.47185483, 541352.48081083,\n",
       "       541352.48449866, 541352.47404211, 541352.46539215, 541352.47228747,\n",
       "       541352.48348919, 541352.49210393, 541352.4930378 , 541352.4921651 ,\n",
       "       541352.48828644, 541352.48554529, 541352.48395311, 541352.48034557,\n",
       "       541352.47493146, 541352.48119476, 541352.49015075, 541352.49910675,\n",
       "       541352.50806274, 541352.51701874, 541352.52597473, 541352.53493073,\n",
       "       541352.54297603, 541352.55068512, 541352.56020078, 541352.57075471,\n",
       "       541352.5797107 , 541352.57954951, 541352.56666102, 541352.5555791 ,\n",
       "       541352.56483068, 541352.5760324 , 541352.58446785, 541352.58783367,\n",
       "       541352.58939291, 541352.58295169, 541352.5777786 , 541352.57576345,\n",
       "       541352.57458786, 541352.57160569, 541352.58009463, 541352.58905063,\n",
       "       541352.59800662, 541352.60696262, 541352.61591861, 541352.61808866,\n",
       "       541352.62199838, 541352.63026006, 541352.64146179, 541352.65266351,\n",
       "       541352.66386524, 541352.67506697, 541352.6862687 , 541352.69652257,\n",
       "       541352.70430573, 541352.68812273, 541352.67193974, 541352.66984655,\n",
       "       541352.67880254, 541352.68632176, 541352.67691014, 541352.6693051 ,\n",
       "       541352.67328598, 541352.68448771, 541352.69463766, 541352.6945266 ,\n",
       "       541352.69260897, 541352.68944854, 541352.68775232, 541352.68919808,\n",
       "       541352.70039981, 541352.71160154, 541352.72280327, 541352.734005  ,\n",
       "       541352.74520672, 541352.75640845, 541352.76761018, 541352.76400838,\n",
       "       541352.75164052, 541352.74164323, 541352.75039724, 541352.75979043,\n",
       "       541352.76874642, 541352.77770242, 541352.78200535, 541352.77016178,\n",
       "       541352.76012479, 541352.76582919, 541352.77703092, 541352.78636884,\n",
       "       541352.78868973, 541352.78920405, 541352.78474653, 541352.78061836,\n",
       "       541352.78174129, 541352.79294302, 541352.80414475, 541352.81534648,\n",
       "       541352.8265482 , 541352.83278827, 541352.82602635, 541352.81745785,\n",
       "       541352.82286632, 541352.83182232, 541352.84077831, 541352.84973431,\n",
       "       541352.8586903 , 541352.86670962, 541352.87620567])</pre></div></li><li class='xr-var-item'><div class='xr-var-name'><span>cdp_y</span></div><div class='xr-var-dims'>(cdp)</div><div class='xr-var-dtype'>float64</div><div class='xr-var-preview xr-preview'>7.677e+06 7.677e+06 ... 7.678e+06</div><input id='attrs-df34d2e5-f3e3-46fb-bad5-03feeb1012aa' class='xr-var-attrs-in' type='checkbox' disabled><label for='attrs-df34d2e5-f3e3-46fb-bad5-03feeb1012aa' title='Show/Hide attributes'><svg class='icon xr-icon-file-text2'><use xlink:href='#icon-file-text2'></use></svg></label><input id='data-ba562ed6-4974-422e-bd7b-4806f04b07f7' class='xr-var-data-in' type='checkbox'><label for='data-ba562ed6-4974-422e-bd7b-4806f04b07f7' title='Show/Hide data repr'><svg class='icon xr-icon-database'><use xlink:href='#icon-database'></use></svg></label><div class='xr-var-attrs'><dl class='xr-attrs'></dl></div><div class='xr-var-data'><pre>array([7676659.31558061, 7676669.44303974, 7676679.57049887,\n",
       "       7676689.61479197, 7676699.6430757 , 7676709.70594834,\n",
       "       7676719.8154416 , 7676729.92427167, 7676739.95370708,\n",
       "       7676749.99759509, 7676760.0559357 , 7676770.12872891,\n",
       "       7676780.21777914, 7676790.36320414, 7676800.50862913,\n",
       "       7676810.65405413, 7676820.79947913, 7676830.94490412,\n",
       "       7676841.09032912, 7676851.23575411, 7676861.36476319,\n",
       "       7676871.49222232, 7676881.6033817 , 7676891.55866485,\n",
       "       7676901.52840061, 7676911.51258896, 7676921.51122992,\n",
       "       7676931.54133107, 7676941.70472193, 7676951.8681128 ,\n",
       "       7676961.98166106, 7676972.05439279, 7676982.12627906,\n",
       "       7676992.27170406, 7677002.41712905, 7677012.56255405,\n",
       "       7677022.70797905, 7677032.85340404, 7677042.99882904,\n",
       "       7677053.14425403, 7677063.18581114, 7677073.16791447,\n",
       "       7677083.16886403, 7677093.29632316, 7677103.42378229,\n",
       "       7677113.55124142, 7677123.67870054, 7677133.807654  ,\n",
       "       7677143.953079  , 7677154.09850399, 7677164.24392899,\n",
       "       7677174.38935398, 7677184.47379788, 7677194.37229936,\n",
       "       7677204.25634824, 7677214.32583271, 7677224.45329184,\n",
       "       7677234.58075096, 7677244.70821009, 7677254.83566922,\n",
       "...\n",
       "       7677658.49782347, 7677668.58882522, 7677678.69427957,\n",
       "       7677688.81641177, 7677698.95145378, 7677709.09687877,\n",
       "       7677719.24230377, 7677729.38772877, 7677739.53315376,\n",
       "       7677749.67857876, 7677759.82400375, 7677769.96942875,\n",
       "       7677780.11485375, 7677790.22023556, 7677800.28609761,\n",
       "       7677810.34592132, 7677820.47338045, 7677830.60083958,\n",
       "       7677840.72829871, 7677850.85575784, 7677860.98321697,\n",
       "       7677871.11067609, 7677881.23813523, 7677891.27529214,\n",
       "       7677901.2505258 , 7677911.23564653, 7677921.34513979,\n",
       "       7677931.45463305, 7677941.53106931, 7677951.61545222,\n",
       "       7677961.73250367, 7677971.87792867, 7677982.01272652,\n",
       "       7677992.14018564, 7678002.26764477, 7678012.3951039 ,\n",
       "       7678022.52256303, 7678032.65002216, 7678042.77748129,\n",
       "       7678052.90494042, 7678063.03239955, 7678073.15985868,\n",
       "       7678083.2873178 , 7678093.32629819, 7678103.34908402,\n",
       "       7678113.38632245, 7678123.43801348, 7678133.5041571 ,\n",
       "       7678143.55452095, 7678153.58514194, 7678163.6410036 ,\n",
       "       7678173.78642859, 7678183.93185359, 7678194.07727858,\n",
       "       7678204.22270358, 7678214.36812857, 7678224.51355357,\n",
       "       7678234.65897857, 7678244.64358291, 7678254.5835755 ])</pre></div></li><li class='xr-var-item'><div class='xr-var-name'><span>iline</span></div><div class='xr-var-dims'>(cdp)</div><div class='xr-var-dtype'>float64</div><div class='xr-var-preview xr-preview'>47.69 47.65 47.61 ... 42.04 42.01</div><input id='attrs-a4b695f3-33f7-4bd5-9796-238b109d7e53' class='xr-var-attrs-in' type='checkbox' disabled><label for='attrs-a4b695f3-33f7-4bd5-9796-238b109d7e53' title='Show/Hide attributes'><svg class='icon xr-icon-file-text2'><use xlink:href='#icon-file-text2'></use></svg></label><input id='data-3253896b-fac6-42cc-bc57-b83aeb14a92b' class='xr-var-data-in' type='checkbox'><label for='data-3253896b-fac6-42cc-bc57-b83aeb14a92b' title='Show/Hide data repr'><svg class='icon xr-icon-database'><use xlink:href='#icon-database'></use></svg></label><div class='xr-var-attrs'><dl class='xr-attrs'></dl></div><div class='xr-var-data'><pre>array([47.685803, 47.649871, 47.613939, 47.578008, 47.542076, 47.506144,\n",
       "       47.470212, 47.434281, 47.398349, 47.362417, 47.326486, 47.290554,\n",
       "       47.254622, 47.21869 , 47.182759, 47.146827, 47.110895, 47.074963,\n",
       "       47.039032, 47.0031  , 46.967168, 46.931236, 46.895305, 46.859373,\n",
       "       46.823441, 46.787509, 46.751578, 46.715646, 46.679714, 46.643783,\n",
       "       46.607851, 46.571919, 46.535987, 46.500056, 46.464124, 46.428192,\n",
       "       46.39226 , 46.356329, 46.320397, 46.284465, 46.248533, 46.212602,\n",
       "       46.17667 , 46.140738, 46.104807, 46.068875, 46.032943, 45.997011,\n",
       "       45.96108 , 45.925148, 45.889216, 45.853284, 45.817353, 45.781421,\n",
       "       45.745489, 45.709557, 45.673626, 45.637694, 45.601762, 45.565831,\n",
       "       45.529899, 45.493967, 45.458035, 45.422104, 45.386172, 45.35024 ,\n",
       "       45.314308, 45.278377, 45.242445, 45.206513, 45.170581, 45.13465 ,\n",
       "       45.098718, 45.062786, 45.026855, 44.990923, 44.954991, 44.919059,\n",
       "       44.883128, 44.847196, 44.811264, 44.775332, 44.739401, 44.703469,\n",
       "       44.667537, 44.631605, 44.595674, 44.559742, 44.52381 , 44.487879,\n",
       "       44.451947, 44.416015, 44.380083, 44.344152, 44.30822 , 44.272288,\n",
       "       44.236356, 44.200425, 44.164493, 44.128561, 44.092629, 44.056698,\n",
       "       44.020766, 43.984834, 43.948903, 43.912971, 43.877039, 43.841107,\n",
       "       43.805176, 43.769244, 43.733312, 43.69738 , 43.661449, 43.625517,\n",
       "       43.589585, 43.553653, 43.517722, 43.48179 , 43.445858, 43.409927,\n",
       "       43.373995, 43.338063, 43.302131, 43.2662  , 43.230268, 43.194336,\n",
       "       43.158404, 43.122473, 43.086541, 43.050609, 43.014677, 42.978746,\n",
       "       42.942814, 42.906882, 42.87095 , 42.835019, 42.799087, 42.763155,\n",
       "       42.727224, 42.691292, 42.65536 , 42.619428, 42.583497, 42.547565,\n",
       "       42.511633, 42.475701, 42.43977 , 42.403838, 42.367906, 42.331974,\n",
       "       42.296043, 42.260111, 42.224179, 42.188248, 42.152316, 42.116384,\n",
       "       42.080452, 42.044521, 42.008589])</pre></div></li><li class='xr-var-item'><div class='xr-var-name'><span>xline</span></div><div class='xr-var-dims'>(cdp)</div><div class='xr-var-dtype'>float64</div><div class='xr-var-preview xr-preview'>41.19 41.59 41.99 ... 104.3 104.7</div><input id='attrs-c0e0039d-c145-4c41-affe-568dbc7ee0ba' class='xr-var-attrs-in' type='checkbox' disabled><label for='attrs-c0e0039d-c145-4c41-affe-568dbc7ee0ba' title='Show/Hide attributes'><svg class='icon xr-icon-file-text2'><use xlink:href='#icon-file-text2'></use></svg></label><input id='data-58571f52-cbe4-4587-8564-2a751eda3c23' class='xr-var-data-in' type='checkbox'><label for='data-58571f52-cbe4-4587-8564-2a751eda3c23' title='Show/Hide data repr'><svg class='icon xr-icon-database'><use xlink:href='#icon-database'></use></svg></label><div class='xr-var-attrs'><dl class='xr-attrs'></dl></div><div class='xr-var-data'><pre>array([ 41.187487,  41.589711,  41.991935,  42.394159,  42.796383,  43.198607,\n",
       "        43.60083 ,  44.003054,  44.405278,  44.807502,  45.209726,  45.61195 ,\n",
       "        46.014173,  46.416397,  46.818621,  47.220845,  47.623069,  48.025293,\n",
       "        48.427516,  48.82974 ,  49.231964,  49.634188,  50.036412,  50.438635,\n",
       "        50.840859,  51.243083,  51.645307,  52.047531,  52.449755,  52.851978,\n",
       "        53.254202,  53.656426,  54.05865 ,  54.460874,  54.863098,  55.265321,\n",
       "        55.667545,  56.069769,  56.471993,  56.874217,  57.276441,  57.678664,\n",
       "        58.080888,  58.483112,  58.885336,  59.28756 ,  59.689783,  60.092007,\n",
       "        60.494231,  60.896455,  61.298679,  61.700903,  62.103126,  62.50535 ,\n",
       "        62.907574,  63.309798,  63.712022,  64.114246,  64.516469,  64.918693,\n",
       "        65.320917,  65.723141,  66.125365,  66.527589,  66.929812,  67.332036,\n",
       "        67.73426 ,  68.136484,  68.538708,  68.940931,  69.343155,  69.745379,\n",
       "        70.147603,  70.549827,  70.952051,  71.354274,  71.756498,  72.158722,\n",
       "        72.560946,  72.96317 ,  73.365394,  73.767617,  74.169841,  74.572065,\n",
       "        74.974289,  75.376513,  75.778737,  76.18096 ,  76.583184,  76.985408,\n",
       "        77.387632,  77.789856,  78.192079,  78.594303,  78.996527,  79.398751,\n",
       "        79.800975,  80.203199,  80.605422,  81.007646,  81.40987 ,  81.812094,\n",
       "        82.214318,  82.616542,  83.018765,  83.420989,  83.823213,  84.225437,\n",
       "        84.627661,  85.029885,  85.432108,  85.834332,  86.236556,  86.63878 ,\n",
       "        87.041004,  87.443227,  87.845451,  88.247675,  88.649899,  89.052123,\n",
       "        89.454347,  89.85657 ,  90.258794,  90.661018,  91.063242,  91.465466,\n",
       "        91.86769 ,  92.269913,  92.672137,  93.074361,  93.476585,  93.878809,\n",
       "        94.281033,  94.683256,  95.08548 ,  95.487704,  95.889928,  96.292152,\n",
       "        96.694376,  97.096599,  97.498823,  97.901047,  98.303271,  98.705495,\n",
       "        99.107718,  99.509942,  99.912166, 100.31439 , 100.716614, 101.118838,\n",
       "       101.521061, 101.923285, 102.325509, 102.727733, 103.129957, 103.532181,\n",
       "       103.934404, 104.336628, 104.738852])</pre></div></li><li class='xr-var-item'><div class='xr-var-name'><span class='xr-has-index'>cdp</span></div><div class='xr-var-dims'>(cdp)</div><div class='xr-var-dtype'>int32</div><div class='xr-var-preview xr-preview'>0 1 2 3 4 5 ... 154 155 156 157 158</div><input id='attrs-94526a51-e876-4c2f-8afe-61151e015916' class='xr-var-attrs-in' type='checkbox' disabled><label for='attrs-94526a51-e876-4c2f-8afe-61151e015916' title='Show/Hide attributes'><svg class='icon xr-icon-file-text2'><use xlink:href='#icon-file-text2'></use></svg></label><input id='data-cfebd01d-daee-47a2-af89-66bbb34aa9d8' class='xr-var-data-in' type='checkbox'><label for='data-cfebd01d-daee-47a2-af89-66bbb34aa9d8' title='Show/Hide data repr'><svg class='icon xr-icon-database'><use xlink:href='#icon-database'></use></svg></label><div class='xr-var-attrs'><dl class='xr-attrs'></dl></div><div class='xr-var-data'><pre>array([  0,   1,   2,   3,   4,   5,   6,   7,   8,   9,  10,  11,  12,  13,\n",
       "        14,  15,  16,  17,  18,  19,  20,  21,  22,  23,  24,  25,  26,  27,\n",
       "        28,  29,  30,  31,  32,  33,  34,  35,  36,  37,  38,  39,  40,  41,\n",
       "        42,  43,  44,  45,  46,  47,  48,  49,  50,  51,  52,  53,  54,  55,\n",
       "        56,  57,  58,  59,  60,  61,  62,  63,  64,  65,  66,  67,  68,  69,\n",
       "        70,  71,  72,  73,  74,  75,  76,  77,  78,  79,  80,  81,  82,  83,\n",
       "        84,  85,  86,  87,  88,  89,  90,  91,  92,  93,  94,  95,  96,  97,\n",
       "        98,  99, 100, 101, 102, 103, 104, 105, 106, 107, 108, 109, 110, 111,\n",
       "       112, 113, 114, 115, 116, 117, 118, 119, 120, 121, 122, 123, 124, 125,\n",
       "       126, 127, 128, 129, 130, 131, 132, 133, 134, 135, 136, 137, 138, 139,\n",
       "       140, 141, 142, 143, 144, 145, 146, 147, 148, 149, 150, 151, 152, 153,\n",
       "       154, 155, 156, 157, 158])</pre></div></li></ul></div></li><li class='xr-section-item'><input id='section-620b499a-644f-44b5-bee2-31782dd9efbe' class='xr-section-summary-in' type='checkbox'  checked><label for='section-620b499a-644f-44b5-bee2-31782dd9efbe' class='xr-section-summary' >Data variables: <span>(1)</span></label><div class='xr-section-inline-details'></div><div class='xr-section-details'><ul class='xr-var-list'><li class='xr-var-item'><div class='xr-var-name'><span>data</span></div><div class='xr-var-dims'>(cdp, twt)</div><div class='xr-var-dtype'>float64</div><div class='xr-var-preview xr-preview'>0.0 0.0 0.0 0.0 ... 0.0 0.0 0.0 0.0</div><input id='attrs-b77253e5-1ce6-4da5-9fd0-31737306acac' class='xr-var-attrs-in' type='checkbox' disabled><label for='attrs-b77253e5-1ce6-4da5-9fd0-31737306acac' title='Show/Hide attributes'><svg class='icon xr-icon-file-text2'><use xlink:href='#icon-file-text2'></use></svg></label><input id='data-70328505-6967-45e9-921a-8e15a6369d84' class='xr-var-data-in' type='checkbox'><label for='data-70328505-6967-45e9-921a-8e15a6369d84' title='Show/Hide data repr'><svg class='icon xr-icon-database'><use xlink:href='#icon-database'></use></svg></label><div class='xr-var-attrs'><dl class='xr-attrs'></dl></div><div class='xr-var-data'><pre>array([[0., 0., 0., ..., 0., 0., 0.],\n",
       "       [0., 0., 0., ..., 0., 0., 0.],\n",
       "       [0., 0., 0., ..., 0., 0., 0.],\n",
       "       ...,\n",
       "       [0., 0., 0., ..., 0., 0., 0.],\n",
       "       [0., 0., 0., ..., 0., 0., 0.],\n",
       "       [0., 0., 0., ..., 0., 0., 0.]])</pre></div></li></ul></div></li><li class='xr-section-item'><input id='section-3662110c-4d82-4129-8ae1-8b2b1fb86bf5' class='xr-section-summary-in' type='checkbox'  ><label for='section-3662110c-4d82-4129-8ae1-8b2b1fb86bf5' class='xr-section-summary' >Indexes: <span>(2)</span></label><div class='xr-section-inline-details'></div><div class='xr-section-details'><ul class='xr-var-list'><li class='xr-var-item'><div class='xr-index-name'><div>twt</div></div><div class='xr-index-preview'>PandasIndex</div><div></div><input id='index-1b73ce34-f11c-499d-8e04-935f9baa31cc' class='xr-index-data-in' type='checkbox'/><label for='index-1b73ce34-f11c-499d-8e04-935f9baa31cc' title='Show/Hide index repr'><svg class='icon xr-icon-database'><use xlink:href='#icon-database'></use></svg></label><div class='xr-index-data'><pre>PandasIndex(Index([      0.0,     3.407,     6.814,    10.221,    13.628,    17.035,\n",
       "          20.442,    23.849,    27.256,    30.663,\n",
       "       ...\n",
       "       10190.337, 10193.744, 10197.151, 10200.558, 10203.965, 10207.372,\n",
       "       10210.779, 10214.186, 10217.593,   10221.0],\n",
       "      dtype=&#x27;float64&#x27;, name=&#x27;twt&#x27;, length=3001))</pre></div></li><li class='xr-var-item'><div class='xr-index-name'><div>cdp</div></div><div class='xr-index-preview'>PandasIndex</div><div></div><input id='index-cedd456c-d881-4700-ad11-057e5c38af60' class='xr-index-data-in' type='checkbox'/><label for='index-cedd456c-d881-4700-ad11-057e5c38af60' title='Show/Hide index repr'><svg class='icon xr-icon-database'><use xlink:href='#icon-database'></use></svg></label><div class='xr-index-data'><pre>PandasIndex(Index([  0,   1,   2,   3,   4,   5,   6,   7,   8,   9,\n",
       "       ...\n",
       "       149, 150, 151, 152, 153, 154, 155, 156, 157, 158],\n",
       "      dtype=&#x27;int32&#x27;, name=&#x27;cdp&#x27;, length=159))</pre></div></li></ul></div></li><li class='xr-section-item'><input id='section-46d825bf-767e-41f4-939b-a118a2d3dbf3' class='xr-section-summary-in' type='checkbox'  ><label for='section-46d825bf-767e-41f4-939b-a118a2d3dbf3' class='xr-section-summary' >Attributes: <span>(13)</span></label><div class='xr-section-inline-details'></div><div class='xr-section-details'><dl class='xr-attrs'><dt><span>ns :</span></dt><dd>None</dd><dt><span>sample_rate :</span></dt><dd>3.407</dd><dt><span>text :</span></dt><dd>C 1 SEGY OUTPUT FROM Petrel 2017.4 Wednesday, February 28 2024 18:49:32\n",
       "C 2 Name: FINAL Depth stack_astack_soft_bin25 ÝRealized¨ 1 Type: 3D seismic\n",
       "C 3\n",
       "C 4 First inline: 1      Last inline: 84\n",
       "C 5 First xline:  1      Last xline:  142\n",
       "C 6 CRS: WGS_1984_UTM_Zone_45N ÝEPSG,32645¨\n",
       "C 7 X min: 540085.93 max: 542495.74 delta: 2409.81\n",
       "C 8 Y min: 7675563.67 max: 7679288.18 delta: 3724.51\n",
       "C 9 Depth min: -10224.05 max: 1.70 delta: 10225.75\n",
       "C10 Lat min: 69.11&#x27;12.5042&quot;N max: 69.13&#x27;14.0526&quot;N delta: 0.02&#x27;1.5484&quot;\n",
       "C11 Long min: 88.00&#x27;39.3591&quot;E max: 88.04&#x27;24.0181&quot;E delta: 0.03&#x27;44.6590&quot;\n",
       "C12 Trace min: -10222.34 max: 0.00 delta: 10222.34\n",
       "C13 Time (template) min: -10224.05 max: 1.70 delta: 10225.75\n",
       "C14 Amplitude (data) min: -23.13 max: 28.23 delta: 51.37\n",
       "C15 Trace sample format: IEEE floating point\n",
       "C16 Coordinate scale factor: 100.00000\n",
       "C17\n",
       "C18 Binary header locations:\n",
       "C19 Sample interval             : bytes 17-18\n",
       "C20 Number of samples per trace : bytes 21-22\n",
       "C21 Trace date format           : bytes 25-26\n",
       "C22\n",
       "C23 Trace header locations:\n",
       "C24 Inline number               : bytes 5-8\n",
       "C25 Xline number                : bytes 21-24\n",
       "C26 Coordinate scale factor     : bytes 71-72\n",
       "C27 X coordinate                : bytes 73-76\n",
       "C28 Y coordinate                : bytes 77-80\n",
       "C29 Trace start time/depth      : bytes 109-110\n",
       "C30 Number of samples per trace : bytes 115-116\n",
       "C31 Sample interval             : bytes 117-118\n",
       "C32\n",
       "C33\n",
       "C34\n",
       "C35\n",
       "C36\n",
       "C37\n",
       "C38\n",
       "C39\n",
       "C40 END EBCDIC</dd><dt><span>measurement_system :</span></dt><dd>m</dd><dt><span>d3_domain :</span></dt><dd>None</dd><dt><span>epsg :</span></dt><dd>None</dd><dt><span>corner_points :</span></dt><dd>((1, 1), (1, 142), (84, 142), (84, 1))</dd><dt><span>corner_points_xy :</span></dt><dd>((540099.5, 7675762.5), (540414.56, 7679274.5), (542482.1, 7679089.0), (542167.06, 7675577.0))</dd><dt><span>source_file :</span></dt><dd>depth_stack_astack_soft_bin25</dd><dt><span>srd :</span></dt><dd>None</dd><dt><span>datatype :</span></dt><dd>None</dd><dt><span>percentiles :</span></dt><dd>[-0.4545141730853375, -0.4274036306998183, -0.059976666040420304, 0.0, 0.06304624683698638, 0.3059553103222063, 0.3199584677524615]</dd><dt><span>coord_scalar :</span></dt><dd>-100.0</dd></dl></div></li></ul></div></div>"
      ],
      "text/plain": [
       "<xarray.Dataset>\n",
       "Dimensions:  (twt: 3001, cdp: 159)\n",
       "Coordinates:\n",
       "  * twt      (twt) float64 0.0 3.407 6.814 ... 1.021e+04 1.022e+04 1.022e+04\n",
       "    cdp_x    (cdp) float64 5.414e+05 5.414e+05 5.414e+05 ... 5.414e+05 5.414e+05\n",
       "    cdp_y    (cdp) float64 7.677e+06 7.677e+06 7.677e+06 ... 7.678e+06 7.678e+06\n",
       "    iline    (cdp) float64 47.69 47.65 47.61 47.58 ... 42.12 42.08 42.04 42.01\n",
       "    xline    (cdp) float64 41.19 41.59 41.99 42.39 ... 103.5 103.9 104.3 104.7\n",
       "  * cdp      (cdp) int32 0 1 2 3 4 5 6 7 8 ... 151 152 153 154 155 156 157 158\n",
       "Data variables:\n",
       "    data     (cdp, twt) float64 0.0 0.0 0.0 0.0 0.0 0.0 ... 0.0 0.0 0.0 0.0 0.0\n",
       "Attributes: (12/13)\n",
       "    ns:                  None\n",
       "    sample_rate:         3.407\n",
       "    text:                C 1 SEGY OUTPUT FROM Petrel 2017.4 Wednesday, Februa...\n",
       "    measurement_system:  m\n",
       "    d3_domain:           None\n",
       "    epsg:                None\n",
       "    ...                  ...\n",
       "    corner_points_xy:    ((540099.5, 7675762.5), (540414.56, 7679274.5), (542...\n",
       "    source_file:         depth_stack_astack_soft_bin25\n",
       "    srd:                 None\n",
       "    datatype:            None\n",
       "    percentiles:         [-0.4545141730853375, -0.4274036306998183, -0.059976...\n",
       "    coord_scalar:        -100.0"
      ]
     },
     "execution_count": 107,
     "metadata": {},
     "output_type": "execute_result"
    }
   ],
   "source": [
    "line_A\n"
   ]
  },
  {
   "cell_type": "code",
   "execution_count": 108,
   "id": "c2f8559c-b6a5-429d-9278-bd0d17259342",
   "metadata": {},
   "outputs": [
    {
     "data": {
      "text/plain": [
       "(3001, 186)"
      ]
     },
     "execution_count": 108,
     "metadata": {},
     "output_type": "execute_result"
    }
   ],
   "source": [
    "line_A_data.shape"
   ]
  },
  {
   "cell_type": "code",
   "execution_count": 109,
   "id": "0458d03f-b4e2-44c1-805b-903210fa922f",
   "metadata": {},
   "outputs": [
    {
     "name": "stdout",
     "output_type": "stream",
     "text": [
      "               X             Y       Z  Amplitude  CDP\n",
      "0  541352.290011  7.676659e+06   0.000        0.0    0\n",
      "1  541352.290011  7.676659e+06   3.407        0.0    0\n",
      "2  541352.290011  7.676659e+06   6.814        0.0    0\n",
      "3  541352.290011  7.676659e+06  10.221        0.0    0\n",
      "4  541352.290011  7.676659e+06  13.628        0.0    0\n"
     ]
    }
   ],
   "source": [
    "import numpy as np\n",
    "import pandas as pd\n",
    "\n",
    "\n",
    "line_A_data = line_A.to_array().squeeze().T\n",
    "n_samples, n_traces = line_A_data.shape\n",
    "x_coords = line_A.cdp_x\n",
    "y_coords = line_A.cdp_y\n",
    "twt = line_A.twt\n",
    "CDP = line_A.cdp\n",
    "\n",
    "X = np.repeat(x_coords, n_samples) \n",
    "Y = np.repeat(y_coords, n_samples) \n",
    "Z = np.tile(twt, n_traces) \n",
    "CDP = np.repeat(CDP, n_samples) \n",
    "\n",
    "Amplitude = line_A_data.to_numpy().reshape(-1)\n",
    "\n",
    "\n",
    "df = pd.DataFrame({\n",
    "    'X': X,\n",
    "    'Y': Y,\n",
    "    'Z': Z,\n",
    "    'Amplitude': Amplitude,\n",
    "    'CDP': CDP\n",
    "})\n",
    "\n",
    "df.dropna(subset=['X', 'Y'], inplace=True)\n",
    "df.fillna(0, inplace=True)\n",
    "\n",
    "\n",
    "print(df.head())\n",
    "# df.sort_values(by = ['X', 'Z'], inplace = True)\n",
    "f\"{x}_{y}.sgy\"\n",
    "df.to_csv(f'C:\\\\Users\\\\Alina\\\\Desktop\\\\{prefix}_{name}.csv', index=False)\n"
   ]
  },
  {
   "cell_type": "code",
   "execution_count": 12,
   "id": "57acdce0-3417-4834-9236-1bcc09554607",
   "metadata": {},
   "outputs": [
    {
     "data": {
      "text/plain": [
       "'ant_tracking'"
      ]
     },
     "execution_count": 12,
     "metadata": {},
     "output_type": "execute_result"
    }
   ],
   "source": [
    "prefix = cube.split('depth_')[-1][:-4]\n"
   ]
  },
  {
   "cell_type": "code",
   "execution_count": 114,
   "id": "56b92a4e-6162-44c5-a6dc-703b0b01f23d",
   "metadata": {},
   "outputs": [
    {
     "data": {
      "image/png": "[encoded data removed]",
      "text/plain": [
       "<Figure size 800x800 with 1 Axes>"
      ]
     },
     "metadata": {},
     "output_type": "display_data"
    }
   ],
   "source": [
    "x = df[\"X\"].values\n",
    "y = df[\"Y\"].values\n",
    "z = df[\"Z\"].values\n",
    "CDP = df[\"CDP\"].values\n",
    "a = df[\"Amplitude\"].values\n",
    "xx = np.reshape(x, (np.unique(z).size, np.unique(y).size))\n",
    "yy = np.reshape(y, (np.unique(z).size, np.unique(y).size))\n",
    "zz = np.reshape(z, (np.unique(z).size, np.unique(y).size))\n",
    "aa = np.reshape(a, (np.unique(z).size, np.unique(y).size))\n",
    "cdp = np.reshape(CDP, (np.unique(z).size, np.unique(y).size))\n",
    "plt.figure(figsize=(8, 8))\n",
    "plt.imshow(aa[0:1000,:], vmin=-10, vmax=10, cmap='RdBu')\n",
    "plt.gca().set_aspect(\"auto\")"
   ]
  },
  {
   "cell_type": "code",
   "execution_count": null,
   "id": "e46990a3-e21b-49af-a2dd-236056d7a152",
   "metadata": {},
   "outputs": [],
   "source": []
  },
  {
   "cell_type": "code",
   "execution_count": 48,
   "id": "096cd0f5-c17f-4460-b224-f8be9b69e023",
   "metadata": {},
   "outputs": [
    {
     "data": {
      "text/plain": [
       "(3001, 186)"
      ]
     },
     "execution_count": 48,
     "metadata": {},
     "output_type": "execute_result"
    }
   ],
   "source": [
    "n_samples, n_traces\n"
   ]
  },
  {
   "cell_type": "code",
   "execution_count": 46,
   "id": "6212571a-dc1f-4eee-bf40-7163ae7d6bde",
   "metadata": {},
   "outputs": [
    {
     "data": {
      "image/png": "[encoded data removed]",
      "text/plain": [
       "<Figure size 640x480 with 1 Axes>"
      ]
     },
     "metadata": {},
     "output_type": "display_data"
    },
    {
     "data": {
      "image/png": "[encoded data removed]",
      "text/plain": [
       "<Figure size 640x480 with 1 Axes>"
      ]
     },
     "metadata": {},
     "output_type": "display_data"
    },
    {
     "data": {
      "image/png": "[encoded data removed]",
      "text/plain": [
       "<Figure size 640x480 with 1 Axes>"
      ]
     },
     "metadata": {},
     "output_type": "display_data"
    }
   ],
   "source": [
    "import numpy as np\n",
    "from matplotlib import pyplot as plt\n",
    "\n",
    "z = np.tile(line_A.twt.to_numpy(), line_A.to_array().squeeze().T.shape[1])\n",
    "x = np.repeat(line_A.cdp_x.to_numpy(), line_A.to_array().squeeze().T.shape[0])\n",
    "y = np.repeat(line_A.cdp_y.to_numpy(), line_A.to_array().squeeze().T.shape[0])\n",
    "plt.plot(x)\n",
    "plt.show()\n",
    "\n",
    "plt.plot(y)\n",
    "plt.show()\n",
    "\n",
    "plt.plot(z)\n",
    "plt.show()"
   ]
  },
  {
   "cell_type": "code",
   "execution_count": null,
   "id": "e8b198a8-a3dc-4525-ae7c-bc18895bd9d3",
   "metadata": {},
   "outputs": [],
   "source": []
  }
 ],
 "metadata": {
  "kernelspec": {
   "display_name": "Python 3 (ipykernel)",
   "language": "python",
   "name": "python3"
  },
  "language_info": {
   "codemirror_mode": {
    "name": "ipython",
    "version": 3
   },
   "file_extension": ".py",
   "mimetype": "text/x-python",
   "name": "python",
   "nbconvert_exporter": "python",
   "pygments_lexer": "ipython3",
   "version": "3.11.5"
  }
 },
 "nbformat": 4,
 "nbformat_minor": 5
}
